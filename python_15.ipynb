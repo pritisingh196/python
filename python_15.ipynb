{
  "nbformat": 4,
  "nbformat_minor": 0,
  "metadata": {
    "colab": {
      "provenance": [],
      "authorship_tag": "ABX9TyPyowTdg+x5QS9RC/OPEPjt",
      "include_colab_link": true
    },
    "kernelspec": {
      "name": "python3",
      "display_name": "Python 3"
    },
    "language_info": {
      "name": "python"
    }
  },
  "cells": [
    {
      "cell_type": "markdown",
      "metadata": {
        "id": "view-in-github",
        "colab_type": "text"
      },
      "source": [
        "<a href=\"https://colab.research.google.com/github/pritisingh196/python/blob/main/python_15.ipynb\" target=\"_parent\"><img src=\"https://colab.research.google.com/assets/colab-badge.svg\" alt=\"Open In Colab\"/></a>"
      ]
    },
    {
      "cell_type": "code",
      "execution_count": null,
      "metadata": {
        "id": "1eDzfgJOdvwj"
      },
      "outputs": [],
      "source": [
        "#Inheritance allows us to define a class that inherits all the methods and properties from another class.\n",
        "#Parent class is the class being inherited from, also called base class.\n",
        "#Child class is the class that inherits from another class, also called derived class."
      ]
    },
    {
      "cell_type": "code",
      "source": [
        "class Person:\n",
        "  def __init__(self, fname, lname):\n",
        "    self.firstname = fname\n",
        "    self.lastname = lname\n",
        "\n",
        "  def printname(self):\n",
        "    print(self.firstname, self.lastname)\n",
        "\n",
        "x = Person(\"priti\", \"singh\")\n",
        "x.printname()"
      ],
      "metadata": {
        "colab": {
          "base_uri": "https://localhost:8080/"
        },
        "id": "0c92xT5XeG5X",
        "outputId": "c4a28da3-605a-47e3-b4ab-e273134b6f4e"
      },
      "execution_count": 2,
      "outputs": [
        {
          "output_type": "stream",
          "name": "stdout",
          "text": [
            "priti singh\n"
          ]
        }
      ]
    },
    {
      "cell_type": "code",
      "source": [
        "#single inheritance\n",
        "class Animal:\n",
        "    def __init__(self, name):\n",
        "        self.name = name\n",
        "\n",
        "    def speak(self):\n",
        "        pass\n",
        "\n",
        "\n",
        "class Dog(Animal):\n",
        "    def speak(self):\n",
        "        return f\"{self.name} says Woof!\"\n",
        "\n",
        "\n",
        "class Cat(Animal):\n",
        "    def speak(self):\n",
        "        return f\"{self.name} says Meow!\"\n",
        "\n",
        "\n",
        "dog = Dog(\"Buddy\")\n",
        "cat = Cat(\"Whiskers\")\n",
        "\n",
        "print(dog.speak())\n",
        "print(cat.speak())\n"
      ],
      "metadata": {
        "colab": {
          "base_uri": "https://localhost:8080/"
        },
        "id": "Pim1-aMyfx8s",
        "outputId": "efdfbc4f-93de-429c-bdd5-273d1a6ec4ec"
      },
      "execution_count": 6,
      "outputs": [
        {
          "output_type": "stream",
          "name": "stdout",
          "text": [
            "Buddy says Woof!\n",
            "Whiskers says Meow!\n"
          ]
        }
      ]
    },
    {
      "cell_type": "code",
      "source": [
        "#multiple inheritance\n",
        "class Parent1:\n",
        "    def method1(self):\n",
        "        print(\"Method 1 from Parent1\")\n",
        "\n",
        "\n",
        "class Parent2:\n",
        "    def method2(self):\n",
        "        print(\"Method 2 from Parent2\")\n",
        "\n",
        "\n",
        "class Child(Parent1, Parent2):\n",
        "    def method3(self):\n",
        "        print(\"Method 3 from Child\")\n",
        "\n",
        "\n",
        "child = Child()\n",
        "\n",
        "child.method1()\n",
        "child.method2()\n",
        "child.method3()\n"
      ],
      "metadata": {
        "colab": {
          "base_uri": "https://localhost:8080/"
        },
        "id": "LyfimeU_iL_r",
        "outputId": "1c96a8d9-2e17-4eb3-d201-f71169034393"
      },
      "execution_count": 9,
      "outputs": [
        {
          "output_type": "stream",
          "name": "stdout",
          "text": [
            "Method 1 from Parent1\n",
            "Method 2 from Parent2\n",
            "Method 3 from Child\n"
          ]
        }
      ]
    },
    {
      "cell_type": "code",
      "source": [
        "#mutilevel inheritance\n",
        "class Animal:\n",
        "    def __init__(self, name):\n",
        "        self.name = name\n",
        "\n",
        "    def speak(self):\n",
        "        pass\n",
        "\n",
        "\n",
        "class Mammal(Animal):\n",
        "    def feed_milk(self):\n",
        "        pass\n",
        "\n",
        "\n",
        "class Dog(Mammal):\n",
        "    def speak(self):\n",
        "        return f\"{self.name} says Woof!\"\n",
        "\n",
        "    def fetch(self):\n",
        "        return f\"{self.name} fetches a ball.\"\n",
        "\n",
        "\n",
        "class Cat(Mammal):\n",
        "    def speak(self):\n",
        "        return f\"{self.name} says Meow!\"\n",
        "\n",
        "    def catch_mice(self):\n",
        "        return f\"{self.name} catches a mouse.\"\n",
        "\n",
        "\n",
        "dog = Dog(\"Buddy\")\n",
        "cat = Cat(\"Whiskers\")\n",
        "\n",
        "print(dog.speak())\n",
        "print(dog.fetch())\n",
        "print(cat.speak())\n",
        "print(cat.catch_mice())\n"
      ],
      "metadata": {
        "colab": {
          "base_uri": "https://localhost:8080/"
        },
        "id": "P1xTGjm4hmLO",
        "outputId": "4d84b709-d232-4335-bb6a-c70b62d173fa"
      },
      "execution_count": 7,
      "outputs": [
        {
          "output_type": "stream",
          "name": "stdout",
          "text": [
            "Buddy says Woof!\n",
            "Buddy fetches a ball.\n",
            "Whiskers says Meow!\n",
            "Whiskers catches a mouse.\n"
          ]
        }
      ]
    },
    {
      "cell_type": "code",
      "source": [
        "#hybrid inheritance\n",
        "class A:\n",
        "    def method_a(self):\n",
        "        print(\"Method from class A\")\n",
        "\n",
        "class B(A):\n",
        "    def method_b(self):\n",
        "        print(\"Method from class B\")\n",
        "\n",
        "class C(A):\n",
        "    def method_c(self):\n",
        "        print(\"Method from class C\")\n",
        "\n",
        "class D(B, C):\n",
        "    def method_d(self):\n",
        "        print(\"Method from class D\")\n",
        "\n",
        "# Create an object of class D\n",
        "d_obj = D()\n",
        "d_obj.method_a()\n",
        "d_obj.method_b()\n",
        "d_obj.method_c()\n",
        "\n",
        "d_obj.method_d()\n"
      ],
      "metadata": {
        "colab": {
          "base_uri": "https://localhost:8080/"
        },
        "id": "FCLIJ-eHh-CK",
        "outputId": "979e4fc4-cc9f-4044-92b8-1f6d572d4b94"
      },
      "execution_count": 11,
      "outputs": [
        {
          "output_type": "stream",
          "name": "stdout",
          "text": [
            "Method from class A\n",
            "Method from class B\n",
            "Method from class C\n",
            "Method from class D\n"
          ]
        }
      ]
    }
  ]
}