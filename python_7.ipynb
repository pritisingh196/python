{
  "nbformat": 4,
  "nbformat_minor": 0,
  "metadata": {
    "colab": {
      "provenance": []
    },
    "kernelspec": {
      "name": "python3",
      "display_name": "Python 3"
    },
    "language_info": {
      "name": "python"
    }
  },
  "cells": [
    {
      "cell_type": "code",
      "execution_count": 9,
      "metadata": {
        "colab": {
          "base_uri": "https://localhost:8080/"
        },
        "id": "JVXBHyxIbPB1",
        "outputId": "7a94f7b7-110b-49fb-8843-9bad142bd308"
      },
      "outputs": [
        {
          "output_type": "stream",
          "name": "stdout",
          "text": [
            "congratulation ! you have passed!\n"
          ]
        }
      ],
      "source": [
        "#Equals: a == b\n",
        "#Not Equals: a != b\n",
        "#Less than: a < b\n",
        "#Less than or equal to: a <= b\n",
        "#Greater than: a > b\n",
        "#Greater than or equal to: a >= b\n",
        "\n",
        "grade ='A'\n",
        "if (grade=='A'):\n",
        " print(\"congratulation ! you have passed!\")\n",
        "if (grade=='B'):\n",
        " print(\"good job \")\n",
        " if (grade=='c'):\n",
        "  print(\" good\")\n",
        " if (grade=='D'):\n",
        "  print(\"keep hardwork \")\n",
        "\n"
      ]
    },
    {
      "cell_type": "code",
      "source": [
        "type(grade)"
      ],
      "metadata": {
        "colab": {
          "base_uri": "https://localhost:8080/"
        },
        "id": "-ENvHv9KdTws",
        "outputId": "a467876c-aa2f-4882-fc4c-f3a810c98b45"
      },
      "execution_count": 12,
      "outputs": [
        {
          "output_type": "execute_result",
          "data": {
            "text/plain": [
              "str"
            ]
          },
          "metadata": {},
          "execution_count": 12
        }
      ]
    },
    {
      "cell_type": "code",
      "source": [
        "# if condition\n",
        "a = 10\n",
        "b = 20\n",
        "if b > a:\n",
        "  print(\"b is greater than a\")"
      ],
      "metadata": {
        "colab": {
          "base_uri": "https://localhost:8080/"
        },
        "id": "I0WN0FzELKzG",
        "outputId": "de338fab-b2f3-4221-acf0-6044c5e2fcf8"
      },
      "execution_count": 1,
      "outputs": [
        {
          "output_type": "stream",
          "name": "stdout",
          "text": [
            "b is greater than a\n"
          ]
        }
      ]
    },
    {
      "cell_type": "code",
      "source": [
        "# if else  condition\n",
        "a = 10\n",
        "b = 20\n",
        "if b > a:\n",
        "  print(\"b is greater than a\")\n",
        "else:\n",
        "  print(\"b is not greater than a\")"
      ],
      "metadata": {
        "colab": {
          "base_uri": "https://localhost:8080/"
        },
        "id": "2aBjV1yZLX7K",
        "outputId": "52e3b44e-123c-4b5c-9591-9e0491d267b8"
      },
      "execution_count": 2,
      "outputs": [
        {
          "output_type": "stream",
          "name": "stdout",
          "text": [
            "b is greater than a\n"
          ]
        }
      ]
    },
    {
      "cell_type": "code",
      "source": [
        "# elif condition\n",
        "a = 10\n",
        "b = 20\n",
        "if b > a:\n",
        "  print(\"b is greater than a\")\n",
        "elif a == b:\n",
        "  print(\"a and b are equal\")\n",
        "else:\n",
        "  print(\"a is greater than b\")"
      ],
      "metadata": {
        "colab": {
          "base_uri": "https://localhost:8080/"
        },
        "id": "QHVNufDqLiuS",
        "outputId": "0dc60231-5c95-4183-a0b3-5d50785ba6ef"
      },
      "execution_count": 3,
      "outputs": [
        {
          "output_type": "stream",
          "name": "stdout",
          "text": [
            "b is greater than a\n"
          ]
        }
      ]
    },
    {
      "cell_type": "code",
      "source": [
        "#short hand if condition\n",
        "if a > b: print(\"a is greater than b\")"
      ],
      "metadata": {
        "id": "McREvTICNPl3"
      },
      "execution_count": 4,
      "outputs": []
    },
    {
      "cell_type": "code",
      "source": [
        "# short hand if-else condition\n",
        "a = 10\n",
        "b = 20\n",
        "print(\"A\") if a > b else print(\"B\")"
      ],
      "metadata": {
        "colab": {
          "base_uri": "https://localhost:8080/"
        },
        "id": "Wk5g8UNbNZS-",
        "outputId": "166f2575-b6ae-4f49-ece2-3fdd212ef424"
      },
      "execution_count": 5,
      "outputs": [
        {
          "output_type": "stream",
          "name": "stdout",
          "text": [
            "B\n"
          ]
        }
      ]
    },
    {
      "cell_type": "code",
      "source": [
        "# and condition\n",
        "a = 10\n",
        "b = 20\n",
        "c = 30\n",
        "if a > b and c > a:\n",
        "  print(\"Both conditions are True\")"
      ],
      "metadata": {
        "id": "67JI-4hON_8S"
      },
      "execution_count": 6,
      "outputs": []
    },
    {
      "cell_type": "code",
      "source": [
        "#OR condition\n",
        "a = 200\n",
        "b = 33\n",
        "c = 500\n",
        "if a > b or a > c:\n",
        "  print(\"At least one of the conditions is True\")"
      ],
      "metadata": {
        "id": "e_6Y8xfUOMkW"
      },
      "execution_count": null,
      "outputs": []
    },
    {
      "cell_type": "code",
      "source": [
        "# not condition\n",
        "a = 10\n",
        "b = 20\n",
        "if not a > b:\n",
        "  print(\"a is NOT greater than b\")\n"
      ],
      "metadata": {
        "colab": {
          "base_uri": "https://localhost:8080/"
        },
        "id": "wEoulffPOed2",
        "outputId": "84cce8e9-0536-4dd6-ee4f-e7a2bc3e5ee5"
      },
      "execution_count": 7,
      "outputs": [
        {
          "output_type": "stream",
          "name": "stdout",
          "text": [
            "a is NOT greater than b\n"
          ]
        }
      ]
    },
    {
      "cell_type": "code",
      "source": [
        "# nested if condition\n",
        "x = 50\n",
        "\n",
        "if x > 18:\n",
        "  print(\"Above 18,\")\n",
        "  if x > 20:\n",
        "    print(\"and also above 20!\")\n",
        "  else:\n",
        "    print(\"but not above 20.\")\n"
      ],
      "metadata": {
        "colab": {
          "base_uri": "https://localhost:8080/"
        },
        "id": "ZQ18vxW5OmFI",
        "outputId": "aa7dd877-feff-4e95-b5ed-7e21fb61614a"
      },
      "execution_count": 9,
      "outputs": [
        {
          "output_type": "stream",
          "name": "stdout",
          "text": [
            "Above 18,\n",
            "and also above 20!\n"
          ]
        }
      ]
    },
    {
      "cell_type": "code",
      "source": [
        "# pass condition\n",
        "a = 10\n",
        "b = 20\n",
        "\n",
        "if b > a:\n",
        "  pass"
      ],
      "metadata": {
        "id": "2NDrp-g3Pfeq"
      },
      "execution_count": 10,
      "outputs": []
    },
    {
      "cell_type": "code",
      "source": [
        "num = int(input(\"Enter a number: \"))\n",
        "if num > 0:\n",
        "   print(\"Positive number\")\n",
        "elif num == 0:\n",
        "   print(\"Zero\")\n",
        "else:\n",
        "   print(\"Negative number\")\n"
      ],
      "metadata": {
        "colab": {
          "base_uri": "https://localhost:8080/"
        },
        "id": "KLt6DjqUR4Wv",
        "outputId": "9ed7de76-d153-4ca0-f0b4-3dd7c5c06625"
      },
      "execution_count": 16,
      "outputs": [
        {
          "output_type": "stream",
          "name": "stdout",
          "text": [
            "Enter a number: 6\n",
            "Positive number\n"
          ]
        }
      ]
    },
    {
      "cell_type": "code",
      "source": [
        "marks=int(input(\"Enter the Marks:\"))\n",
        "if (marks>90):\n",
        " print(\"congratulation ! you have passed!\")\n",
        "elif(marks>75):\n",
        " print(\"good job \")\n",
        "elif(marks>60):\n",
        "  print(\" good\")\n",
        "elif(marks<50):\n",
        "  print(\"keep hardwork \")\n",
        "else:\n",
        "      print(\"you are fail\")"
      ],
      "metadata": {
        "colab": {
          "base_uri": "https://localhost:8080/"
        },
        "id": "8Fx718epR7su",
        "outputId": "b553a9a7-c454-4af1-dac7-4a713f5682ec"
      },
      "execution_count": 18,
      "outputs": [
        {
          "output_type": "stream",
          "name": "stdout",
          "text": [
            "Enter the Marks:75\n",
            " good\n"
          ]
        }
      ]
    },
    {
      "cell_type": "code",
      "source": [
        "digit=int(input(\"Enter the Marks:\"))\n",
        "if (digit<9):\n",
        " print(\"single digit\")\n",
        "elif(digit<90):\n",
        " print(\"double digit\")\n",
        "elif(digit<900):\n",
        "  print(\" triple digit\")\n",
        "elif(digit>9000):\n",
        "  print(\"four digit\")\n",
        "else:\n",
        "      print(\"type error\")"
      ],
      "metadata": {
        "colab": {
          "base_uri": "https://localhost:8080/"
        },
        "id": "uCSetITZVcwt",
        "outputId": "5d23197d-8006-4d9b-fc0f-6704dbafb62d"
      },
      "execution_count": 32,
      "outputs": [
        {
          "output_type": "stream",
          "name": "stdout",
          "text": [
            "Enter the Marks:9000\n",
            "type error\n"
          ]
        }
      ]
    }
  ]
}