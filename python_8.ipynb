{
  "nbformat": 4,
  "nbformat_minor": 0,
  "metadata": {
    "colab": {
      "provenance": []
    },
    "kernelspec": {
      "name": "python3",
      "display_name": "Python 3"
    },
    "language_info": {
      "name": "python"
    }
  },
  "cells": [
    {
      "cell_type": "code",
      "execution_count": null,
      "metadata": {
        "colab": {
          "base_uri": "https://localhost:8080/"
        },
        "id": "TyNrtfvIq-xu",
        "outputId": "837f66fd-a8c0-4c53-b377-7042d0da8228"
      },
      "outputs": [
        {
          "output_type": "stream",
          "name": "stdout",
          "text": [
            "1\n",
            "2\n",
            "3\n",
            "4\n",
            "5\n"
          ]
        }
      ],
      "source": [
        "#A while loop statement in Python programming language repeatedly executes a target statement as long as a given condition is true.\n",
        "# while loop condition\n",
        "i=1;\n",
        "while (i<=5):\n",
        "  print(i)\n",
        "  i=i+1\n"
      ]
    },
    {
      "cell_type": "code",
      "source": [
        "#A for loop is used for iterating over a sequence (that is either a list, a tuple, a dictionary, a set, or a string)\n",
        "# for loop condition\n",
        "i=0\n",
        "for i in 'priti singh':\n",
        "  print(i)"
      ],
      "metadata": {
        "colab": {
          "base_uri": "https://localhost:8080/"
        },
        "id": "6luBRUqNtPKq",
        "outputId": "c83d7fa4-c10a-4920-a9ca-c67f3b8f6500"
      },
      "execution_count": null,
      "outputs": [
        {
          "output_type": "stream",
          "name": "stdout",
          "text": [
            "p\n",
            "r\n",
            "i\n",
            "t\n",
            "i\n",
            " \n",
            "s\n",
            "i\n",
            "n\n",
            "g\n",
            "h\n"
          ]
        }
      ]
    },
    {
      "cell_type": "code",
      "source": [
        "i = 0;\n",
        "while i< 10:\n",
        "    print(\"priti singh\")\n",
        "    i += 1"
      ],
      "metadata": {
        "colab": {
          "base_uri": "https://localhost:8080/"
        },
        "id": "rwv8TgimtuRk",
        "outputId": "dee3bb4f-ca17-4b0c-cfa4-6bc460127dac"
      },
      "execution_count": null,
      "outputs": [
        {
          "output_type": "stream",
          "name": "stdout",
          "text": [
            "priti singh\n",
            "priti singh\n",
            "priti singh\n",
            "priti singh\n",
            "priti singh\n",
            "priti singh\n",
            "priti singh\n",
            "priti singh\n",
            "priti singh\n",
            "priti singh\n"
          ]
        }
      ]
    },
    {
      "cell_type": "code",
      "source": [
        "i = 0;\n",
        "while i<len(\"priti singh\"):\n",
        "    print(i)\n",
        "    i += 1"
      ],
      "metadata": {
        "colab": {
          "base_uri": "https://localhost:8080/"
        },
        "id": "lCrrhkwJub8v",
        "outputId": "e635eb0e-d55d-4655-f298-7814b2dd4ba7"
      },
      "execution_count": null,
      "outputs": [
        {
          "output_type": "stream",
          "name": "stdout",
          "text": [
            "0\n",
            "1\n",
            "2\n",
            "3\n",
            "4\n",
            "5\n",
            "6\n",
            "7\n",
            "8\n",
            "9\n",
            "10\n"
          ]
        }
      ]
    },
    {
      "cell_type": "code",
      "source": [
        "i = 0;\n",
        "while i < 10:\n",
        "    print(\"priti singh \")\n",
        "    i+= 1"
      ],
      "metadata": {
        "colab": {
          "base_uri": "https://localhost:8080/"
        },
        "id": "ytT7c-OOu0E_",
        "outputId": "a4a92618-76bc-45fc-c709-875297249266"
      },
      "execution_count": null,
      "outputs": [
        {
          "output_type": "stream",
          "name": "stdout",
          "text": [
            "priti singh \n",
            "priti singh \n",
            "priti singh \n",
            "priti singh \n",
            "priti singh \n",
            "priti singh \n",
            "priti singh \n",
            "priti singh \n",
            "priti singh \n",
            "priti singh \n"
          ]
        }
      ]
    },
    {
      "cell_type": "code",
      "source": [
        "#using  break keyword\n",
        "i = 1\n",
        "while (i <= 10):\n",
        "  print(i)\n",
        "  if(i==3):\n",
        "    break\n",
        "  i = i + 1"
      ],
      "metadata": {
        "colab": {
          "base_uri": "https://localhost:8080/"
        },
        "id": "8Ze5UCb4wZaU",
        "outputId": "28a2645a-9dc0-44c1-f304-dab9653bf0e0"
      },
      "execution_count": 6,
      "outputs": [
        {
          "output_type": "stream",
          "name": "stdout",
          "text": [
            "1\n",
            "2\n",
            "3\n"
          ]
        }
      ]
    },
    {
      "cell_type": "code",
      "source": [
        "# using continue keyword\n",
        "i = 0\n",
        "while i <5:\n",
        "  i += 1\n",
        "  if i == 3:\n",
        "    continue\n",
        "  print(i)\n"
      ],
      "metadata": {
        "id": "Wc-3wGQ3xAz9",
        "colab": {
          "base_uri": "https://localhost:8080/"
        },
        "outputId": "c2799b80-0654-47bd-c7e7-692ea8bf173f"
      },
      "execution_count": 5,
      "outputs": [
        {
          "output_type": "stream",
          "name": "stdout",
          "text": [
            "1\n",
            "2\n",
            "4\n",
            "5\n"
          ]
        }
      ]
    },
    {
      "cell_type": "code",
      "source": [
        "#print first 10 natural number using while loop\n",
        "i=1\n",
        "while i<11:\n",
        "    print(i)\n",
        "    i=i+1\n"
      ],
      "metadata": {
        "colab": {
          "base_uri": "https://localhost:8080/"
        },
        "id": "eOp4L2DNzPw8",
        "outputId": "6d543060-8d8b-4a86-e1db-225d89fcf7b2"
      },
      "execution_count": null,
      "outputs": [
        {
          "output_type": "stream",
          "name": "stdout",
          "text": [
            "1\n",
            "2\n",
            "3\n",
            "4\n",
            "5\n",
            "6\n",
            "7\n",
            "8\n",
            "9\n",
            "10\n"
          ]
        }
      ]
    },
    {
      "cell_type": "code",
      "source": [
        "# Multiplication table in Python\n",
        "num = 12\n",
        "for i in range(1, 11):\n",
        "   print(num, 'x', i, '=', num*i)\n",
        "\n"
      ],
      "metadata": {
        "colab": {
          "base_uri": "https://localhost:8080/"
        },
        "id": "e-pPI_Npz5U2",
        "outputId": "68ab397d-e737-4e69-a007-5c4feefb4dae"
      },
      "execution_count": null,
      "outputs": [
        {
          "output_type": "stream",
          "name": "stdout",
          "text": [
            "12 x 1 = 12\n",
            "12 x 2 = 24\n",
            "12 x 3 = 36\n",
            "12 x 4 = 48\n",
            "12 x 5 = 60\n",
            "12 x 6 = 72\n",
            "12 x 7 = 84\n",
            "12 x 8 = 96\n",
            "12 x 9 = 108\n",
            "12 x 10 = 120\n"
          ]
        }
      ]
    },
    {
      "cell_type": "code",
      "source": [
        "# while-else statement\n",
        "i = 1\n",
        "while i <5:\n",
        "  print(i)\n",
        "  i += 1\n",
        "else:\n",
        "  print(\"i is no longer less than 5\")\n"
      ],
      "metadata": {
        "id": "oQMRKl_H0pcu",
        "colab": {
          "base_uri": "https://localhost:8080/"
        },
        "outputId": "799fab16-7ee1-4e2a-9dcb-d3ee595880d5"
      },
      "execution_count": 8,
      "outputs": [
        {
          "output_type": "stream",
          "name": "stdout",
          "text": [
            "1\n",
            "2\n",
            "3\n",
            "4\n",
            "i is no longer less than 5\n"
          ]
        }
      ]
    },
    {
      "cell_type": "code",
      "source": [
        "# for -else\n",
        "for i in range(7):\n",
        "  print(i)\n",
        "else:\n",
        "  print(\"Finally finished!\")"
      ],
      "metadata": {
        "colab": {
          "base_uri": "https://localhost:8080/"
        },
        "id": "hJmKC4eQAFB1",
        "outputId": "cc744993-57f4-4dee-ebf9-e81969f00ad3"
      },
      "execution_count": 11,
      "outputs": [
        {
          "output_type": "stream",
          "name": "stdout",
          "text": [
            "0\n",
            "1\n",
            "2\n",
            "3\n",
            "4\n",
            "5\n",
            "6\n",
            "Finally finished!\n"
          ]
        }
      ]
    },
    {
      "cell_type": "code",
      "source": [
        "for i in range(2, 20, 2):\n",
        "  print(i)"
      ],
      "metadata": {
        "colab": {
          "base_uri": "https://localhost:8080/"
        },
        "id": "UaQURhk0AwCF",
        "outputId": "cb023d75-7877-4f1a-e48c-43556433f479"
      },
      "execution_count": 17,
      "outputs": [
        {
          "output_type": "stream",
          "name": "stdout",
          "text": [
            "2\n",
            "4\n",
            "6\n",
            "8\n",
            "10\n",
            "12\n",
            "14\n",
            "16\n",
            "18\n"
          ]
        }
      ]
    }
  ]
}