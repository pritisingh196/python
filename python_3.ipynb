{
  "nbformat": 4,
  "nbformat_minor": 0,
  "metadata": {
    "colab": {
      "provenance": []
    },
    "kernelspec": {
      "name": "python3",
      "display_name": "Python 3"
    },
    "language_info": {
      "name": "python"
    }
  },
  "cells": [
    {
      "cell_type": "code",
      "execution_count": null,
      "metadata": {
        "id": "-x8U_TPSV4rp"
      },
      "outputs": [],
      "source": [
        "#Removing the element from the list pop delete and remove"
      ]
    },
    {
      "cell_type": "code",
      "source": [
        "#pop\n",
        "x=[10,20,30,40,50,60,70,80,90,100]\n",
        "x.pop()\n",
        "x"
      ],
      "metadata": {
        "colab": {
          "base_uri": "https://localhost:8080/"
        },
        "id": "9H0T72XzAQZK",
        "outputId": "bf63f6da-bd5c-498c-8e35-c56c9a079ffb"
      },
      "execution_count": 2,
      "outputs": [
        {
          "output_type": "execute_result",
          "data": {
            "text/plain": [
              "[10, 20, 30, 40, 50, 60, 70, 80, 90]"
            ]
          },
          "metadata": {},
          "execution_count": 2
        }
      ]
    },
    {
      "cell_type": "code",
      "source": [
        "#pop :if you specify which index's element to be removed .\n",
        "x=[10,20,30,40,50,60,70,80,90]\n",
        "x.pop(0)  #you have to fill the index in the bracket\n",
        "print(x)\n"
      ],
      "metadata": {
        "colab": {
          "base_uri": "https://localhost:8080/"
        },
        "id": "vOkzkTFBCQf9",
        "outputId": "47fe62c9-a0bf-4609-a913-b56c4a60e44f"
      },
      "execution_count": 3,
      "outputs": [
        {
          "output_type": "stream",
          "name": "stdout",
          "text": [
            "[20, 30, 40, 50, 60, 70, 80, 90]\n"
          ]
        }
      ]
    },
    {
      "cell_type": "code",
      "source": [
        "#list 10 element and move 1st,6th and last element using pop\n",
        "list=[10,20,30,40,50,60,70,80,90,100]\n",
        "list.pop(1) #1st element\n",
        "list.pop(5) #6th element\n",
        "list.pop(-1) #last element\n",
        "print(list)\n"
      ],
      "metadata": {
        "colab": {
          "base_uri": "https://localhost:8080/"
        },
        "id": "74upkHfhDBto",
        "outputId": "abcc7f7a-3e21-4d90-b8f9-4aaba29dda12"
      },
      "execution_count": 45,
      "outputs": [
        {
          "output_type": "stream",
          "name": "stdout",
          "text": [
            "[10, 30, 40, 50, 60, 80, 90]\n"
          ]
        }
      ]
    },
    {
      "cell_type": "code",
      "source": [
        "#remove we will be using the value\n",
        "name=['priti','singh','abhishek','chikoo']\n",
        "name.remove('singh')\n",
        "print(name)"
      ],
      "metadata": {
        "colab": {
          "base_uri": "https://localhost:8080/"
        },
        "id": "WXPPtduWR0SW",
        "outputId": "1b12721d-f133-483d-d783-5f3027fba67e"
      },
      "execution_count": 5,
      "outputs": [
        {
          "output_type": "stream",
          "name": "stdout",
          "text": [
            "['priti', 'abhishek', 'chikoo']\n"
          ]
        }
      ]
    },
    {
      "cell_type": "code",
      "source": [
        "#remove 2nd and 4th element from your list using remove\n",
        "name=['priti','singh','abhishek','chikoo','hello']\n",
        "name.remove('singh')\n",
        "name.remove('chikoo')\n",
        "name.remove('hello')\n",
        "print(name)"
      ],
      "metadata": {
        "colab": {
          "base_uri": "https://localhost:8080/"
        },
        "id": "dXLnUEquVj_2",
        "outputId": "c8c006c8-db02-4ea0-961d-1dcbb8686212"
      },
      "execution_count": 51,
      "outputs": [
        {
          "output_type": "stream",
          "name": "stdout",
          "text": [
            "['priti', 'abhishek']\n"
          ]
        }
      ]
    },
    {
      "cell_type": "code",
      "source": [
        "#del delete the element from specific index\n",
        "x=[10,20,30,40,50,60,70,80]\n",
        "del x[0]\n",
        "print(x)"
      ],
      "metadata": {
        "colab": {
          "base_uri": "https://localhost:8080/"
        },
        "id": "orI1C_FjV3rd",
        "outputId": "53e4972e-ee39-4b43-8c74-42965c78e112"
      },
      "execution_count": 12,
      "outputs": [
        {
          "output_type": "stream",
          "name": "stdout",
          "text": [
            "[20, 30, 40, 50, 60, 70, 80]\n"
          ]
        }
      ]
    },
    {
      "cell_type": "code",
      "source": [
        "a=[10,20,30,40,50]\n",
        "del a[1]\n",
        "print(a)"
      ],
      "metadata": {
        "colab": {
          "base_uri": "https://localhost:8080/"
        },
        "id": "_kAWaiaOYXqg",
        "outputId": "12b5c2be-fd56-4180-88a6-3bcf58d18c33"
      },
      "execution_count": 17,
      "outputs": [
        {
          "output_type": "stream",
          "name": "stdout",
          "text": [
            "[10, 30, 40, 50]\n"
          ]
        }
      ]
    },
    {
      "cell_type": "code",
      "source": [
        "b=[10,20,30,40,50]\n",
        "b.clear()\n",
        "print(b)"
      ],
      "metadata": {
        "colab": {
          "base_uri": "https://localhost:8080/"
        },
        "id": "jzxgzIh6Y4mq",
        "outputId": "8abb5284-a4ac-41ca-ac2b-613abc4a8b02"
      },
      "execution_count": 14,
      "outputs": [
        {
          "output_type": "stream",
          "name": "stdout",
          "text": [
            "[]\n"
          ]
        }
      ]
    },
    {
      "cell_type": "code",
      "source": [
        "x=[10,20,30,40,50,60,70,80]\n",
        "\n",
        "for element in x:\n",
        " print(element)"
      ],
      "metadata": {
        "colab": {
          "base_uri": "https://localhost:8080/"
        },
        "id": "do7YiNqyZJwP",
        "outputId": "fab1929d-9128-4529-d559-ec0f463b1c32"
      },
      "execution_count": 18,
      "outputs": [
        {
          "output_type": "stream",
          "name": "stdout",
          "text": [
            "10\n",
            "20\n",
            "30\n",
            "40\n",
            "50\n",
            "60\n",
            "70\n",
            "80\n"
          ]
        }
      ]
    },
    {
      "cell_type": "code",
      "source": [
        "x=[10,20,30,40,50,60,70,80]\n",
        "\n",
        "for element in x:\n",
        " print(element*20)"
      ],
      "metadata": {
        "colab": {
          "base_uri": "https://localhost:8080/"
        },
        "id": "nKw9pEuAaoKf",
        "outputId": "9ec343b3-6909-4ea4-e68d-5a3fb2205e3d"
      },
      "execution_count": 19,
      "outputs": [
        {
          "output_type": "stream",
          "name": "stdout",
          "text": [
            "200\n",
            "400\n",
            "600\n",
            "800\n",
            "1000\n",
            "1200\n",
            "1400\n",
            "1600\n"
          ]
        }
      ]
    },
    {
      "cell_type": "code",
      "source": [
        "name='priti'\n",
        "\n",
        "for element in name:\n",
        " print(element) #instruction"
      ],
      "metadata": {
        "colab": {
          "base_uri": "https://localhost:8080/"
        },
        "id": "HE_FIycdbmu8",
        "outputId": "0a3d5905-2b19-41d4-e26e-659e25fce3a6"
      },
      "execution_count": 36,
      "outputs": [
        {
          "output_type": "stream",
          "name": "stdout",
          "text": [
            "p\n",
            "r\n",
            "i\n",
            "t\n",
            "i\n"
          ]
        }
      ]
    },
    {
      "cell_type": "code",
      "source": [
        "#iteration\n",
        "#for (variable name)in (sequence):\n",
        "#statement\n"
      ],
      "metadata": {
        "id": "UZasNt-_bzrI"
      },
      "execution_count": null,
      "outputs": []
    },
    {
      "cell_type": "code",
      "source": [
        "b=[10,20,30,40,50]\n",
        "for i in b:\n",
        "  print(i)\n",
        "  print(i*20)\n",
        "  print(i**20)\n",
        "  print(i+20)"
      ],
      "metadata": {
        "colab": {
          "base_uri": "https://localhost:8080/"
        },
        "id": "XUk5ceyBcGVs",
        "outputId": "79f21aa8-5524-4631-924f-525f622c96e3"
      },
      "execution_count": 22,
      "outputs": [
        {
          "output_type": "stream",
          "name": "stdout",
          "text": [
            "10\n",
            "200\n",
            "100000000000000000000\n",
            "30\n",
            "20\n",
            "400\n",
            "104857600000000000000000000\n",
            "40\n",
            "30\n",
            "600\n",
            "348678440100000000000000000000\n",
            "50\n",
            "40\n",
            "800\n",
            "109951162777600000000000000000000\n",
            "60\n",
            "50\n",
            "1000\n",
            "9536743164062500000000000000000000\n",
            "70\n"
          ]
        }
      ]
    },
    {
      "cell_type": "code",
      "source": [
        "for i in [10,20,30,40,50]:\n",
        "  print(i)"
      ],
      "metadata": {
        "colab": {
          "base_uri": "https://localhost:8080/"
        },
        "id": "w9hnFVyFcnWa",
        "outputId": "9dbe6d13-4ffa-4c6e-f817-6429d12713fc"
      },
      "execution_count": 23,
      "outputs": [
        {
          "output_type": "stream",
          "name": "stdout",
          "text": [
            "10\n",
            "20\n",
            "30\n",
            "40\n",
            "50\n"
          ]
        }
      ]
    },
    {
      "cell_type": "code",
      "source": [
        "range(10)"
      ],
      "metadata": {
        "colab": {
          "base_uri": "https://localhost:8080/"
        },
        "id": "VCED-7iJcydo",
        "outputId": "d425cd91-9666-43f1-cbe5-64336ecd2944"
      },
      "execution_count": 24,
      "outputs": [
        {
          "output_type": "execute_result",
          "data": {
            "text/plain": [
              "range(0, 10)"
            ]
          },
          "metadata": {},
          "execution_count": 24
        }
      ]
    },
    {
      "cell_type": "code",
      "source": [
        "for i in range(10): #the range () function return a sequence of number ,starting from 0 by default and increment by 1\n",
        "  print(\"hello ,world!\")"
      ],
      "metadata": {
        "colab": {
          "base_uri": "https://localhost:8080/"
        },
        "id": "iVhwnG2Jc6vR",
        "outputId": "9a7ca6ef-d25e-4b07-ec13-677e667bbcfe"
      },
      "execution_count": 25,
      "outputs": [
        {
          "output_type": "stream",
          "name": "stdout",
          "text": [
            "hello ,world!\n",
            "hello ,world!\n",
            "hello ,world!\n",
            "hello ,world!\n",
            "hello ,world!\n",
            "hello ,world!\n",
            "hello ,world!\n",
            "hello ,world!\n",
            "hello ,world!\n",
            "hello ,world!\n"
          ]
        }
      ]
    },
    {
      "cell_type": "code",
      "source": [
        "print(list(range(10)))"
      ],
      "metadata": {
        "colab": {
          "base_uri": "https://localhost:8080/"
        },
        "id": "nZleArytdoMK",
        "outputId": "bf5c9dea-71d5-4f48-9e00-e1f64f35a630"
      },
      "execution_count": 27,
      "outputs": [
        {
          "output_type": "stream",
          "name": "stdout",
          "text": [
            "[0, 1, 2, 3, 4, 5, 6, 7, 8, 9]\n"
          ]
        }
      ]
    },
    {
      "cell_type": "code",
      "source": [
        "print(list(range(4,11)))"
      ],
      "metadata": {
        "colab": {
          "base_uri": "https://localhost:8080/"
        },
        "id": "zNU1LwoWdGyv",
        "outputId": "fea9c55d-e706-4eb4-cb8e-fce397f45856"
      },
      "execution_count": 28,
      "outputs": [
        {
          "output_type": "stream",
          "name": "stdout",
          "text": [
            "[4, 5, 6, 7, 8, 9, 10]\n"
          ]
        }
      ]
    },
    {
      "cell_type": "code",
      "source": [
        "print(list(range(4,11,2))) #4,4+2=6,6+2=8,8+2=10"
      ],
      "metadata": {
        "colab": {
          "base_uri": "https://localhost:8080/"
        },
        "id": "vqoFsy30eaXh",
        "outputId": "d38c9723-8e80-49ce-bf96-b188426cb5a5"
      },
      "execution_count": 29,
      "outputs": [
        {
          "output_type": "stream",
          "name": "stdout",
          "text": [
            "[4, 6, 8, 10]\n"
          ]
        }
      ]
    },
    {
      "cell_type": "code",
      "source": [
        "name=['priti','singh','abhishek','kumar']\n",
        "name.sort()#ascending\n",
        "name"
      ],
      "metadata": {
        "colab": {
          "base_uri": "https://localhost:8080/"
        },
        "id": "zCsGLa-DezP0",
        "outputId": "0be57d07-b2ef-44d3-e264-83be2fd4c8c0"
      },
      "execution_count": 33,
      "outputs": [
        {
          "output_type": "execute_result",
          "data": {
            "text/plain": [
              "['abhishek', 'kumar', 'priti', 'singh']"
            ]
          },
          "metadata": {},
          "execution_count": 33
        }
      ]
    },
    {
      "cell_type": "code",
      "source": [
        "#reverse =true means we will be doing descending order\n",
        "name.sort(reverse=True) #descending\n",
        "name"
      ],
      "metadata": {
        "colab": {
          "base_uri": "https://localhost:8080/"
        },
        "id": "iT-OFwLwf0Jr",
        "outputId": "60cf2e94-0af1-4410-a6ed-aed9ae6268fb"
      },
      "execution_count": 34,
      "outputs": [
        {
          "output_type": "execute_result",
          "data": {
            "text/plain": [
              "['singh', 'priti', 'kumar', 'abhishek']"
            ]
          },
          "metadata": {},
          "execution_count": 34
        }
      ]
    }
  ]
}