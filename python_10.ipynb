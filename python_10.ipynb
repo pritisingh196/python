{
  "nbformat": 4,
  "nbformat_minor": 0,
  "metadata": {
    "colab": {
      "provenance": []
    },
    "kernelspec": {
      "name": "python3",
      "display_name": "Python 3"
    },
    "language_info": {
      "name": "python"
    }
  },
  "cells": [
    {
      "cell_type": "code",
      "execution_count": null,
      "metadata": {
        "colab": {
          "base_uri": "https://localhost:8080/"
        },
        "id": "B7gcC4LPaTep",
        "outputId": "3b088293-cfd0-43fa-9579-75c7fb6643c5"
      },
      "outputs": [
        {
          "output_type": "execute_result",
          "data": {
            "text/plain": [
              "30"
            ]
          },
          "metadata": {},
          "execution_count": 43
        }
      ],
      "source": [
        "#lamda function anonymous function\n",
        "#lambda function is a special type of function without the function name\n",
        "#implicitly return\n",
        "fun1 = lambda x, y : x + y\n",
        "fun1(10, 20)"
      ]
    },
    {
      "cell_type": "code",
      "source": [
        "x = lambda y: y + 30\n",
        "print(x(23))"
      ],
      "metadata": {
        "colab": {
          "base_uri": "https://localhost:8080/"
        },
        "id": "tNAvveFrm7_T",
        "outputId": "08042f38-4967-42ff-ba05-4d0a9ab3d845"
      },
      "execution_count": null,
      "outputs": [
        {
          "output_type": "stream",
          "name": "stdout",
          "text": [
            "53\n"
          ]
        }
      ]
    },
    {
      "cell_type": "code",
      "source": [
        "x = lambda y, z : y * z\n",
        "print(x(10, 20))"
      ],
      "metadata": {
        "colab": {
          "base_uri": "https://localhost:8080/"
        },
        "id": "gKZBoirknLlx",
        "outputId": "2d98471b-706f-4731-e644-b753d3ce3dc5"
      },
      "execution_count": null,
      "outputs": [
        {
          "output_type": "stream",
          "name": "stdout",
          "text": [
            "200\n"
          ]
        }
      ]
    },
    {
      "cell_type": "code",
      "source": [
        "x = lambda e,f,g : e + f + g\n",
        "print(x(10, 2, 5))"
      ],
      "metadata": {
        "colab": {
          "base_uri": "https://localhost:8080/"
        },
        "id": "Mk--ENe6XkFv",
        "outputId": "742ffbd5-aa7b-47ec-fa28-f328ad20f7b4"
      },
      "execution_count": null,
      "outputs": [
        {
          "output_type": "stream",
          "name": "stdout",
          "text": [
            "17\n"
          ]
        }
      ]
    },
    {
      "cell_type": "code",
      "source": [
        "def func(x):\n",
        "  return lambda a : a * x"
      ],
      "metadata": {
        "id": "lxANFN_JeC_y"
      },
      "execution_count": null,
      "outputs": []
    },
    {
      "cell_type": "code",
      "source": [
        "def func(x):\n",
        "  return lambda a : a * x\n",
        "\n",
        "func1 = func(10)\n",
        "\n",
        "print(func1(20))\n"
      ],
      "metadata": {
        "colab": {
          "base_uri": "https://localhost:8080/"
        },
        "id": "4WX0d9-3en-Q",
        "outputId": "520539d0-0317-4de6-81e5-5f5842247e86"
      },
      "execution_count": null,
      "outputs": [
        {
          "output_type": "stream",
          "name": "stdout",
          "text": [
            "200\n"
          ]
        }
      ]
    },
    {
      "cell_type": "code",
      "source": [
        "def func(x):\n",
        "  return lambda a : a * x\n",
        "\n",
        "func2 = func(7)\n",
        "func2 = func(9)\n",
        "\n",
        "print(func2(55))\n",
        "print(func2(11))"
      ],
      "metadata": {
        "colab": {
          "base_uri": "https://localhost:8080/"
        },
        "id": "p5JCD8KgesGU",
        "outputId": "5a9c8bc3-c8d7-4d16-ce61-370c8d0b38b1"
      },
      "execution_count": null,
      "outputs": [
        {
          "output_type": "stream",
          "name": "stdout",
          "text": [
            "495\n",
            "99\n"
          ]
        }
      ]
    }
  ]
}