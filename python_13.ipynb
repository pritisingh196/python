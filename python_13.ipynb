{
  "nbformat": 4,
  "nbformat_minor": 0,
  "metadata": {
    "colab": {
      "provenance": []
    },
    "kernelspec": {
      "name": "python3",
      "display_name": "Python 3"
    },
    "language_info": {
      "name": "python"
    }
  },
  "cells": [
    {
      "cell_type": "code",
      "execution_count": null,
      "metadata": {
        "id": "LsUL5jabGysK"
      },
      "outputs": [],
      "source": [
        "#class and object\n",
        "#class is a blueprint of a object\n",
        "#object is a similar to a class\n"
      ]
    },
    {
      "cell_type": "code",
      "source": [
        "class MyClass:\n",
        "  x = 5\n",
        "\n",
        "print(MyClass)\n"
      ],
      "metadata": {
        "colab": {
          "base_uri": "https://localhost:8080/"
        },
        "id": "fNsI34MuLeNG",
        "outputId": "65a94412-deb5-46a6-f0b2-9c307317a351"
      },
      "execution_count": null,
      "outputs": [
        {
          "output_type": "stream",
          "name": "stdout",
          "text": [
            "<class '__main__.MyClass'>\n"
          ]
        }
      ]
    },
    {
      "cell_type": "code",
      "source": [
        "#All classes have a function called __init__(), which is always executed when the class is being initiated.\n"
      ],
      "metadata": {
        "id": "JS3N1qZYMB8q"
      },
      "execution_count": null,
      "outputs": []
    },
    {
      "cell_type": "code",
      "source": [
        "#The __init__() function is called automatically every time the class is being used to create a new object."
      ],
      "metadata": {
        "id": "GkGpOQsWMvA9"
      },
      "execution_count": null,
      "outputs": []
    },
    {
      "cell_type": "code",
      "source": [
        "#The __init__() Function\n",
        "class Person:\n",
        "  def __init__(self, name, age):\n",
        "    self.name = name\n",
        "    self.age = age\n",
        "\n",
        "h1 = Person(\"priti singh \", 20)\n",
        "\n",
        "print(h1.name)\n",
        "print(h1.age)"
      ],
      "metadata": {
        "colab": {
          "base_uri": "https://localhost:8080/"
        },
        "id": "-4AfG3ERNBh0",
        "outputId": "9a30c3a8-7381-4f06-b894-5c6e74b97433"
      },
      "execution_count": 1,
      "outputs": [
        {
          "output_type": "stream",
          "name": "stdout",
          "text": [
            "priti singh \n",
            "20\n"
          ]
        }
      ]
    },
    {
      "cell_type": "code",
      "source": [
        "#The __str__() Function\n",
        "#The __str__() function controls what should be returned when the class object is represented as a string.\n",
        "#If the __str__() function is not set, the string representation of the object is returned:\n",
        "\n",
        "class Person:\n",
        "  def __init__(self, name, age):\n",
        "    self.name = name\n",
        "    self.age = age\n",
        "\n",
        "h1 = Person(\"priti singh \", 20)\n",
        "\n",
        "print(h1)\n"
      ],
      "metadata": {
        "colab": {
          "base_uri": "https://localhost:8080/"
        },
        "id": "8jst-oSXNKJ7",
        "outputId": "df93e2e0-ccef-417d-916b-c13ee1f9ce57"
      },
      "execution_count": 2,
      "outputs": [
        {
          "output_type": "stream",
          "name": "stdout",
          "text": [
            "<__main__.Person object at 0x7fb61e380400>\n"
          ]
        }
      ]
    },
    {
      "cell_type": "code",
      "source": [
        "# string function with object\n",
        "class Person:\n",
        "  def __init__(self, name, age):\n",
        "    self.name = name\n",
        "    self.age = age\n",
        "\n",
        "  def __str__(self):\n",
        "    return f\"{self.name}({self.age})\"\n",
        "\n",
        "h1 = Person(\"priti singh\", 20)\n",
        "\n",
        "print(h1)"
      ],
      "metadata": {
        "colab": {
          "base_uri": "https://localhost:8080/"
        },
        "id": "08Cu-LZBNvoc",
        "outputId": "f4a39fc8-ef51-4496-ac79-ea946c3eba05"
      },
      "execution_count": 1,
      "outputs": [
        {
          "output_type": "stream",
          "name": "stdout",
          "text": [
            "priti singh(20)\n"
          ]
        }
      ]
    },
    {
      "cell_type": "code",
      "source": [
        "#object method\n",
        "class Person:\n",
        "  def __init__(self, name, age):\n",
        "    self.name = name\n",
        "    self.age = age\n",
        "\n",
        "  def myfunc(self):\n",
        "    print(\"Hello my name is \" + self.name)\n",
        "\n",
        "obj= Person(\"priti singh\", 20)\n",
        "obj.myfunc()"
      ],
      "metadata": {
        "colab": {
          "base_uri": "https://localhost:8080/"
        },
        "id": "2GMwuuC1N-pj",
        "outputId": "d680d163-e03e-4f8e-d3d3-87af8ecf8df9"
      },
      "execution_count": 17,
      "outputs": [
        {
          "output_type": "stream",
          "name": "stdout",
          "text": [
            "Hello my name is priti singh\n"
          ]
        }
      ]
    },
    {
      "cell_type": "code",
      "source": [
        "#The self parameter is a reference to the current instance of the class, and is used to access variables that belong to the class.\n",
        "class Person:\n",
        "  def __init__(myobject, name, age):\n",
        "    myobject.name = name\n",
        "    myobject.age = age\n",
        "\n",
        "  def myfunc(xyz):\n",
        "    print(\"Hello my name is \" + xyz.name)\n",
        "\n",
        "h1 = Person(\"priti singh\", 20)\n",
        "h1.myfunc()"
      ],
      "metadata": {
        "colab": {
          "base_uri": "https://localhost:8080/"
        },
        "id": "8yF89wr3OLlb",
        "outputId": "5064fb50-23fe-41e3-a405-b1d1a55a5172"
      },
      "execution_count": 14,
      "outputs": [
        {
          "output_type": "stream",
          "name": "stdout",
          "text": [
            "Hello my name is priti singh\n"
          ]
        }
      ]
    },
    {
      "cell_type": "code",
      "source": [
        "#modify object by properties\n",
        "class Person:\n",
        "  def __init__(self, name, age):\n",
        "    self.name = name\n",
        "    self.age = age\n",
        "\n",
        "  def myfunc(self):\n",
        "    print(\"Hello my name is \" + self.name)\n",
        "\n",
        "h1= Person(\"priti singh\", 20)\n",
        "h1.age = 40\n",
        "\n",
        "print(h1.age)\n"
      ],
      "metadata": {
        "colab": {
          "base_uri": "https://localhost:8080/"
        },
        "id": "tupfC0L_OZnl",
        "outputId": "6c780889-f495-46f1-8c63-0513e535e494"
      },
      "execution_count": 6,
      "outputs": [
        {
          "output_type": "stream",
          "name": "stdout",
          "text": [
            "40\n"
          ]
        }
      ]
    },
    {
      "cell_type": "code",
      "source": [
        "#delete object properties\n",
        "class Person:\n",
        "  def __init__(self, name, age):\n",
        "    self.name = name\n",
        "    self.age = age\n",
        "\n",
        "  def myfunc(self):\n",
        "    print(\"Hello my name is \" + self.name)\n",
        "\n",
        "obj = Person(\"priti singh\", 20)\n",
        "\n",
        "del obj\n",
        "\n",
        "print(obj)\n"
      ],
      "metadata": {
        "id": "okiTY62ZOnsX"
      },
      "execution_count": null,
      "outputs": []
    },
    {
      "cell_type": "code",
      "source": [
        "#delete object\n",
        "class Person:\n",
        "  def __init__(self, name, age):\n",
        "    self.name = name\n",
        "    self.age = age\n",
        "\n",
        "  def myfunc(self):\n",
        "    print(\"Hello my name is \" + self.name)\n",
        "\n",
        "obj= Person(\"priti singh\", 20)\n",
        "\n",
        "del obj\n",
        "\n",
        "print(obj)\n"
      ],
      "metadata": {
        "id": "hsOgJojzPCyt"
      },
      "execution_count": null,
      "outputs": []
    },
    {
      "cell_type": "code",
      "source": [
        "#pass statement\n",
        "#class definitions cannot be empty, but if you for some reason have a class definition with no content, put in the pass statement to avoid getting an error."
      ],
      "metadata": {
        "id": "UqXvv20IPpFy"
      },
      "execution_count": null,
      "outputs": []
    },
    {
      "cell_type": "code",
      "source": [
        "class Person:\n",
        "  pass\n",
        "\n",
        "# having an empty class definition like this, would raise an error without the pass statement\n"
      ],
      "metadata": {
        "id": "Wxy9F6lFP21N"
      },
      "execution_count": 18,
      "outputs": []
    }
  ]
}