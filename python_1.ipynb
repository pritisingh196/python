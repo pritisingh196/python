{
  "nbformat": 4,
  "nbformat_minor": 0,
  "metadata": {
    "colab": {
      "provenance": []
    },
    "kernelspec": {
      "name": "python3",
      "display_name": "Python 3"
    },
    "language_info": {
      "name": "python"
    }
  },
  "cells": [
    {
      "cell_type": "code",
      "execution_count": null,
      "metadata": {
        "colab": {
          "base_uri": "https://localhost:8080/"
        },
        "id": "NoNdPHA1T6NP",
        "outputId": "c48a2838-1b62-4ca1-f89a-be6a4bb75d60"
      },
      "outputs": [
        {
          "output_type": "stream",
          "name": "stdout",
          "text": [
            "hello world \n"
          ]
        }
      ],
      "source": [
        " #hello world print in python\n",
        "print(\"hello world \")"
      ]
    },
    {
      "cell_type": "code",
      "source": [
        "# variables and containers\n",
        "x='hello dude'\n",
        "print(x)"
      ],
      "metadata": {
        "colab": {
          "base_uri": "https://localhost:8080/"
        },
        "id": "3OWmCW4UU_4N",
        "outputId": "2f75b305-d0b8-4f95-c85a-69ed54d804ad"
      },
      "execution_count": null,
      "outputs": [
        {
          "output_type": "stream",
          "name": "stdout",
          "text": [
            "hello dude\n"
          ]
        }
      ]
    },
    {
      "cell_type": "code",
      "source": [
        "#variables: containers (rice,daals,etc)\n",
        "name = 'priti' #text: string\n",
        "lname = 'singh' #text: string\n",
        "age = 24 #int: -ve number or 0 or positive number\n",
        "weight = 70.2 #float data type: both negative and positive decimal numbers\n",
        "print(age)"
      ],
      "metadata": {
        "colab": {
          "base_uri": "https://localhost:8080/"
        },
        "id": "y9suvfXAV4Nn",
        "outputId": "c85d7017-2eb7-40d7-a4b8-9cbfca9e5641"
      },
      "execution_count": null,
      "outputs": [
        {
          "output_type": "stream",
          "name": "stdout",
          "text": [
            "24\n"
          ]
        }
      ]
    },
    {
      "cell_type": "code",
      "source": [
        "# using operators\n",
        "c=12\n",
        "d=12\n",
        "c+d;   #addition\n",
        "c-d;  #sub\n",
        "c/d   #division\n",
        "c%d   #modulas\n",
        "c<d   #less than\n",
        "c>d   #greater than\n",
        "c==d  #comparion operator\n",
        "c<=d  #less than equal to\n",
        "c>=d  #greater than equal to\n",
        "c!=d  #not eual\n",
        "c**d  #Exponentiation\n",
        "c//d  #Floor division\n",
        "print(c+d)\n",
        "print(c-d)\n",
        "print(c/d)\n",
        "print(c%d)\n",
        "print(c<d)\n",
        "print(c>d)\n",
        "print(c==d)\n",
        "print(c<=d)\n",
        "print(c>=d)\n",
        "print(c!=d)\n",
        "print(c//d)\n",
        "\n",
        "\n",
        "\n"
      ],
      "metadata": {
        "colab": {
          "base_uri": "https://localhost:8080/"
        },
        "id": "f4FXcW3oXSNM",
        "outputId": "3bbd8321-fed0-4640-d924-2c88804688d0"
      },
      "execution_count": null,
      "outputs": [
        {
          "output_type": "stream",
          "name": "stdout",
          "text": [
            "24\n",
            "0\n",
            "1.0\n",
            "0\n",
            "False\n",
            "False\n",
            "True\n",
            "True\n",
            "True\n",
            "False\n"
          ]
        }
      ]
    },
    {
      "cell_type": "code",
      "source": [],
      "metadata": {
        "id": "qjm1DE3JcCK7"
      },
      "execution_count": null,
      "outputs": []
    }
  ]
}