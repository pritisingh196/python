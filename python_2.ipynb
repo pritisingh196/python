{
  "nbformat": 4,
  "nbformat_minor": 0,
  "metadata": {
    "colab": {
      "provenance": []
    },
    "kernelspec": {
      "name": "python3",
      "display_name": "Python 3"
    },
    "language_info": {
      "name": "python"
    }
  },
  "cells": [
    {
      "cell_type": "code",
      "execution_count": 9,
      "metadata": {
        "id": "Z-BtC502mp_T"
      },
      "outputs": [],
      "source": [
        "#list :things that is used to store values  they are used to store multiple valuse\n",
        "#synta:list_name=[] lists are ordered ,changeable,and allow duplicate values"
      ]
    },
    {
      "cell_type": "code",
      "source": [
        "marks =[90,100,89,90,67,45,98,True,False,\"priti singh\",65.4]\n",
        "print(marks)"
      ],
      "metadata": {
        "colab": {
          "base_uri": "https://localhost:8080/"
        },
        "id": "exgudhjhpo_5",
        "outputId": "41971580-11c4-4f68-b57a-14a2fe07e471"
      },
      "execution_count": 7,
      "outputs": [
        {
          "output_type": "stream",
          "name": "stdout",
          "text": [
            "[90, 100, 89, 90, 67, 45, 98, True, False, 'priti singh', 65.4]\n"
          ]
        }
      ]
    },
    {
      "cell_type": "code",
      "source": [
        "marks[3:9]"
      ],
      "metadata": {
        "colab": {
          "base_uri": "https://localhost:8080/"
        },
        "id": "3AeUuOIGpq2B",
        "outputId": "288568f9-188c-476b-8839-5d9bcb73017c"
      },
      "execution_count": 4,
      "outputs": [
        {
          "output_type": "execute_result",
          "data": {
            "text/plain": [
              "[90, 67, 45, 98, 'priti singh', 65.4]"
            ]
          },
          "metadata": {},
          "execution_count": 4
        }
      ]
    },
    {
      "cell_type": "code",
      "source": [
        "marks= [65,78,90,89,70,56,45,34,60 ]\n",
        "marks[3:-4]\n"
      ],
      "metadata": {
        "colab": {
          "base_uri": "https://localhost:8080/"
        },
        "id": "QNJq1rHw3Ks3",
        "outputId": "29736dc4-1130-42f4-f86a-0134d279d9dc"
      },
      "execution_count": null,
      "outputs": [
        {
          "output_type": "execute_result",
          "data": {
            "text/plain": [
              "[89, 70]"
            ]
          },
          "metadata": {},
          "execution_count": 31
        }
      ]
    },
    {
      "cell_type": "code",
      "source": [
        "marks [4]=98\n",
        "marks"
      ],
      "metadata": {
        "colab": {
          "base_uri": "https://localhost:8080/"
        },
        "id": "vgmSwtwbsdP3",
        "outputId": "a91a622a-5c1f-4413-a885-38ffa4fe889f"
      },
      "execution_count": null,
      "outputs": [
        {
          "output_type": "execute_result",
          "data": {
            "text/plain": [
              "[90, 98, 89, 90, 98, 45, 98, True, False, 'priti singh', 65.4]"
            ]
          },
          "metadata": {},
          "execution_count": 11
        }
      ]
    },
    {
      "cell_type": "code",
      "source": [
        "marks[3:9]=[1,2,3,4]\n",
        "marks"
      ],
      "metadata": {
        "colab": {
          "base_uri": "https://localhost:8080/"
        },
        "outputId": "26383fe3-7dcc-4d7a-cca4-15e61838d61f",
        "id": "HqJVNy7-cjHJ"
      },
      "execution_count": 46,
      "outputs": [
        {
          "output_type": "execute_result",
          "data": {
            "text/plain": [
              "[1, 2, 3, 1, 2, 3, 4, 10]"
            ]
          },
          "metadata": {},
          "execution_count": 46
        }
      ]
    },
    {
      "cell_type": "code",
      "source": [
        "marks1=[90,100,89,67,78,45,98,35,46]\n",
        "marks"
      ],
      "metadata": {
        "colab": {
          "base_uri": "https://localhost:8080/"
        },
        "id": "uZJUtVm0uu0h",
        "outputId": "e091a4ab-9c35-4139-8d9b-763e3be345be"
      },
      "execution_count": null,
      "outputs": [
        {
          "output_type": "execute_result",
          "data": {
            "text/plain": [
              "[90, 98, 89, 1, 2, 3, 4, 'priti singh', 65.4]"
            ]
          },
          "metadata": {},
          "execution_count": 20
        }
      ]
    },
    {
      "cell_type": "code",
      "source": [
        "#print out 1st,2nd 8th and last value of that list\n",
        "list = [10, 20, 30, 40, 50, 60, 70, 80, 90, 100]\n",
        "\n",
        "print(\"1st value:\", list[0])\n",
        "print(\"2nd value:\", list[1])\n",
        "print(\"8th value:\", list[7])\n",
        "print(\"Last value:\",[-1])\n",
        "\n"
      ],
      "metadata": {
        "colab": {
          "base_uri": "https://localhost:8080/"
        },
        "id": "aS0NHUIdpsON",
        "outputId": "d4aa32b7-0316-4085-9374-7871cd3618ed"
      },
      "execution_count": 44,
      "outputs": [
        {
          "output_type": "stream",
          "name": "stdout",
          "text": [
            "1st value: 10\n",
            "2nd value: 20\n",
            "8th value: 80\n",
            "Last value: [-1]\n"
          ]
        }
      ]
    },
    {
      "cell_type": "code",
      "source": [
        "#print last students marks 1st students marks and 7th students marks\n",
        "student_marks = [85, 90, 78, 92, 80, 88, 95, 87, 91, 84]\n",
        "\n",
        "print(\"Last student's marks:\", student_marks[-1])\n",
        "print(\"First student's marks:\", student_marks[0])\n",
        "print(\"Seventh student's marks:\", student_marks[6])\n"
      ],
      "metadata": {
        "colab": {
          "base_uri": "https://localhost:8080/"
        },
        "id": "VStLMd1guKNA",
        "outputId": "9bd6b896-130c-4d93-8a8b-62936c6cf536"
      },
      "execution_count": null,
      "outputs": [
        {
          "output_type": "stream",
          "name": "stdout",
          "text": [
            "Last student's marks: 84\n",
            "First student's marks: 85\n",
            "Seventh student's marks: 95\n"
          ]
        }
      ]
    },
    {
      "cell_type": "code",
      "source": [
        "print(10>9,10==9,10<9)"
      ],
      "metadata": {
        "colab": {
          "base_uri": "https://localhost:8080/"
        },
        "id": "Gs0p3hbTrNfW",
        "outputId": "aaaec893-d91e-4693-da42-16afb232f199"
      },
      "execution_count": 5,
      "outputs": [
        {
          "output_type": "stream",
          "name": "stdout",
          "text": [
            "True False False\n"
          ]
        }
      ]
    },
    {
      "cell_type": "code",
      "source": [
        "x=10\n",
        "y=\"priti singh\"\n",
        "z=90.8\n",
        "a=True\n",
        "type(x)"
      ],
      "metadata": {
        "colab": {
          "base_uri": "https://localhost:8080/"
        },
        "id": "D8jDTDrdraEQ",
        "outputId": "5d359683-14ae-4a13-9db4-e3097426b440"
      },
      "execution_count": 6,
      "outputs": [
        {
          "output_type": "execute_result",
          "data": {
            "text/plain": [
              "int"
            ]
          },
          "metadata": {},
          "execution_count": 6
        }
      ]
    },
    {
      "cell_type": "code",
      "source": [
        "#length function it help you to find length of your list len()\n",
        "len(marks)"
      ],
      "metadata": {
        "colab": {
          "base_uri": "https://localhost:8080/"
        },
        "id": "WpwIdWD-udDs",
        "outputId": "3929896b-ff61-46ed-dfbb-198b31add0bc"
      },
      "execution_count": 14,
      "outputs": [
        {
          "output_type": "execute_result",
          "data": {
            "text/plain": [
              "9"
            ]
          },
          "metadata": {},
          "execution_count": 14
        }
      ]
    },
    {
      "cell_type": "code",
      "source": [
        "x=9\n",
        "type(x)"
      ],
      "metadata": {
        "colab": {
          "base_uri": "https://localhost:8080/"
        },
        "id": "wQ6QR9aPukfI",
        "outputId": "62f2bd85-bd4f-4ae7-827e-06afdd1c58bf"
      },
      "execution_count": 15,
      "outputs": [
        {
          "output_type": "execute_result",
          "data": {
            "text/plain": [
              "int"
            ]
          },
          "metadata": {},
          "execution_count": 15
        }
      ]
    },
    {
      "cell_type": "code",
      "source": [
        "type(marks)"
      ],
      "metadata": {
        "colab": {
          "base_uri": "https://localhost:8080/"
        },
        "id": "nvkV-YsIurNT",
        "outputId": "d33d4242-780f-4973-e6de-48f7f7efeeb8"
      },
      "execution_count": 16,
      "outputs": [
        {
          "output_type": "execute_result",
          "data": {
            "text/plain": [
              "list"
            ]
          },
          "metadata": {},
          "execution_count": 16
        }
      ]
    },
    {
      "cell_type": "code",
      "source": [
        "#The insert() method inserts the specified value at the specified position.\n",
        "#list.insert(pos, elmnt)\n",
        "marks= [1,2,3,4,5]\n",
        "marks.insert(3, '6')\n",
        "print('List:', marks)"
      ],
      "metadata": {
        "colab": {
          "base_uri": "https://localhost:8080/"
        },
        "id": "QUQ2rlS84aHK",
        "outputId": "a36a8164-0e68-4d2d-d753-ff6d6b74e108"
      },
      "execution_count": 32,
      "outputs": [
        {
          "output_type": "stream",
          "name": "stdout",
          "text": [
            "List: [1, 2, 3, '6', 4, 5]\n"
          ]
        }
      ]
    },
    {
      "cell_type": "code",
      "source": [
        "name=['p','i','t','i']\n",
        "name.insert(3,'k')\n",
        "print('List:',name)"
      ],
      "metadata": {
        "colab": {
          "base_uri": "https://localhost:8080/"
        },
        "id": "pRJ5P2X3660y",
        "outputId": "f6917a5d-be43-4c50-bbe0-0be227885265"
      },
      "execution_count": 34,
      "outputs": [
        {
          "output_type": "stream",
          "name": "stdout",
          "text": [
            "List: ['p', 'i', 't', 'k', 'i']\n"
          ]
        }
      ]
    },
    {
      "cell_type": "code",
      "source": [
        "age=[22,26,27,28,29,30]\n",
        "age.insert(2,'age')\n",
        "print('List:',age)"
      ],
      "metadata": {
        "colab": {
          "base_uri": "https://localhost:8080/"
        },
        "id": "LFNRWkKK8Ry5",
        "outputId": "62c42e35-d81c-4e50-df2b-778dafa5968d"
      },
      "execution_count": 35,
      "outputs": [
        {
          "output_type": "stream",
          "name": "stdout",
          "text": [
            "List: [22, 26, 'age', 27, 28, 29, 30]\n"
          ]
        }
      ]
    }
  ]
}