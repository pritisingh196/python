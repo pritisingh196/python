{
  "nbformat": 4,
  "nbformat_minor": 0,
  "metadata": {
    "colab": {
      "provenance": []
    },
    "kernelspec": {
      "name": "python3",
      "display_name": "Python 3"
    },
    "language_info": {
      "name": "python"
    }
  },
  "cells": [
    {
      "cell_type": "code",
      "execution_count": 26,
      "metadata": {
        "colab": {
          "base_uri": "https://localhost:8080/"
        },
        "id": "vK1EIkImmuDO",
        "outputId": "a838f907-9709-4e6d-b9e9-8479e394eca7"
      },
      "outputs": [
        {
          "output_type": "stream",
          "name": "stdout",
          "text": [
            "{'name': 'priti', 'city': 'delhi', 'age': 20, 'branch': 'cse'}\n"
          ]
        }
      ],
      "source": [
        "#Dictionary in Python is a collection of keys values, used to store data values\n",
        "#like a map, which, unlike other data types which hold only a single value as an element.\n",
        "my_dict={\n",
        "    \"name\":\"priti\",\n",
        "     \"city\":\"delhi\",\n",
        "      \"age\":20,\n",
        "       \"branch\":\"cse\"\n",
        "}\n",
        "print(my_dict)"
      ]
    },
    {
      "cell_type": "code",
      "source": [
        "\n",
        "my_dict['age']=24\n",
        "my_dict\n"
      ],
      "metadata": {
        "colab": {
          "base_uri": "https://localhost:8080/"
        },
        "id": "g6CZmYqDuagR",
        "outputId": "fe4c0db9-ff2a-45d2-a834-ca3f86283cd5"
      },
      "execution_count": 8,
      "outputs": [
        {
          "output_type": "execute_result",
          "data": {
            "text/plain": [
              "{'name': 'priti', 'city': 'delhi', 'age': 24, 'branch': 'cse'}"
            ]
          },
          "metadata": {},
          "execution_count": 8
        }
      ]
    },
    {
      "cell_type": "code",
      "source": [
        "my_dict.get(\"hello[hii[hii]\")"
      ],
      "metadata": {
        "id": "jvPpgI7btMgj"
      },
      "execution_count": 5,
      "outputs": []
    },
    {
      "cell_type": "code",
      "source": [
        "#GET()METHOD TO GET VALUE FROM A DICTIONARY:\n",
        "my_dict.get(\"name\",\"omg,no key like that is present\")\n"
      ],
      "metadata": {
        "colab": {
          "base_uri": "https://localhost:8080/",
          "height": 35
        },
        "id": "9g7Idn6rtn2L",
        "outputId": "1287db51-335c-49b2-aba7-a30158310e32"
      },
      "execution_count": 6,
      "outputs": [
        {
          "output_type": "execute_result",
          "data": {
            "text/plain": [
              "'priti'"
            ],
            "application/vnd.google.colaboratory.intrinsic+json": {
              "type": "string"
            }
          },
          "metadata": {},
          "execution_count": 6
        }
      ]
    },
    {
      "cell_type": "code",
      "source": [
        "#The update() method inserts the specified items to the dictionary.\n",
        "#The specified items can be a dictionary, or an iterable object with key value pairs.\n",
        "my_dict.update({\"year\":2023})\n",
        "my_dict"
      ],
      "metadata": {
        "colab": {
          "base_uri": "https://localhost:8080/"
        },
        "id": "1WyJiEoAvFM9",
        "outputId": "62fbb6ea-469d-4fc3-b240-cc107dc6ca52"
      },
      "execution_count": 34,
      "outputs": [
        {
          "output_type": "execute_result",
          "data": {
            "text/plain": [
              "{'name': 'priti', 'city': 'delhi', 'age': 20, 'branch': 'cse', 'year': 2023}"
            ]
          },
          "metadata": {},
          "execution_count": 34
        }
      ]
    },
    {
      "cell_type": "code",
      "source": [
        "my_dict[\"hobbies\"]=\"writting\"\n",
        "my_dict\n",
        "{'name':'priti',\n",
        " 'lname':'singh',\n",
        " 'age':20,\n",
        " 'city':'delhi',\n",
        " 'hobbies':'writing'}\n",
        "print(my_dict)\n",
        ""
      ],
      "metadata": {
        "colab": {
          "base_uri": "https://localhost:8080/"
        },
        "id": "e7Ayt64MuLuV",
        "outputId": "81446b6e-df9e-426d-833d-ea2b2c45b5cb"
      },
      "execution_count": 18,
      "outputs": [
        {
          "output_type": "stream",
          "name": "stdout",
          "text": [
            "{'name': 'priti', 'city': 'delhi', 'branch': 'cse', 'hobbies': 'writting'}\n"
          ]
        }
      ]
    },
    {
      "cell_type": "code",
      "source": [
        "for a in my_dict:\n",
        "  print(my_dict[a])"
      ],
      "metadata": {
        "colab": {
          "base_uri": "https://localhost:8080/"
        },
        "id": "9R0sHyytxfGC",
        "outputId": "617c14c5-28d0-44db-b64e-30b8e86f807b"
      },
      "execution_count": 19,
      "outputs": [
        {
          "output_type": "stream",
          "name": "stdout",
          "text": [
            "priti\n",
            "delhi\n",
            "cse\n",
            "writting\n"
          ]
        }
      ]
    },
    {
      "cell_type": "code",
      "source": [
        "#The values() method returns dict_values, which can be converted to a list with list()\n",
        "for a in my_dict.values():\n",
        "    print(a)"
      ],
      "metadata": {
        "colab": {
          "base_uri": "https://localhost:8080/"
        },
        "id": "7YUR0lrnxrh1",
        "outputId": "6650c06c-afdd-441d-c6ef-06956541913c"
      },
      "execution_count": 29,
      "outputs": [
        {
          "output_type": "stream",
          "name": "stdout",
          "text": [
            "priti\n",
            "delhi\n",
            "20\n",
            "cse\n"
          ]
        }
      ]
    },
    {
      "cell_type": "code",
      "source": [
        "#The keys() method returns dict_keys, which can be converted to a list with list().\n",
        "for key,value in my_dict.items():\n",
        "     print(key, ' : ', value)"
      ],
      "metadata": {
        "colab": {
          "base_uri": "https://localhost:8080/"
        },
        "id": "tz5sEFbLRca0",
        "outputId": "adfc6513-7bc8-4c62-8355-1fc23ddf34c5"
      },
      "execution_count": 35,
      "outputs": [
        {
          "output_type": "stream",
          "name": "stdout",
          "text": [
            "name  :  priti\n",
            "city  :  delhi\n",
            "age  :  20\n",
            "branch  :  cse\n",
            "year  :  2023\n"
          ]
        }
      ]
    },
    {
      "cell_type": "code",
      "source": [
        "my_dict"
      ],
      "metadata": {
        "colab": {
          "base_uri": "https://localhost:8080/"
        },
        "id": "4YmAfRx0vyKN",
        "outputId": "28901dc4-004b-4294-8bc7-a743bc993b95"
      },
      "execution_count": 10,
      "outputs": [
        {
          "output_type": "execute_result",
          "data": {
            "text/plain": [
              "{'name': 'priti', 'city': 'delhi', 'age': 24, 'branch': 'cse', 'year': 2023}"
            ]
          },
          "metadata": {},
          "execution_count": 10
        }
      ]
    },
    {
      "cell_type": "code",
      "source": [
        "#deleting a key :\n",
        "#the pop()method the item with the specified key name:\n",
        "my_dict.pop(\"age\")\n",
        "my_dict"
      ],
      "metadata": {
        "colab": {
          "base_uri": "https://localhost:8080/"
        },
        "id": "q3PLQ2Ukv1dK",
        "outputId": "a22ab2fc-7ac1-44fa-aa93-7f73edc2b086"
      },
      "execution_count": 11,
      "outputs": [
        {
          "output_type": "execute_result",
          "data": {
            "text/plain": [
              "{'name': 'priti', 'city': 'delhi', 'branch': 'cse', 'year': 2023}"
            ]
          },
          "metadata": {},
          "execution_count": 11
        }
      ]
    },
    {
      "cell_type": "code",
      "source": [
        "my_dict.popitem()\n",
        "my_dict"
      ],
      "metadata": {
        "colab": {
          "base_uri": "https://localhost:8080/"
        },
        "id": "RKqWVVJMwFXE",
        "outputId": "70f8cbed-ce99-4dab-c72e-565fd1f687db"
      },
      "execution_count": 12,
      "outputs": [
        {
          "output_type": "execute_result",
          "data": {
            "text/plain": [
              "{'name': 'priti', 'city': 'delhi', 'branch': 'cse'}"
            ]
          },
          "metadata": {},
          "execution_count": 12
        }
      ]
    },
    {
      "cell_type": "code",
      "source": [
        "my_dict[\"hobbies\"]\n",
        "\n",
        "del my_dict[\"hobbies\"]\n"
      ],
      "metadata": {
        "id": "st9DLwfFwWuc"
      },
      "execution_count": 17,
      "outputs": []
    },
    {
      "cell_type": "code",
      "source": [],
      "metadata": {
        "id": "J9ggbQdxxZFg"
      },
      "execution_count": null,
      "outputs": []
    }
  ]
}