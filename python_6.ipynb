{
  "nbformat": 4,
  "nbformat_minor": 0,
  "metadata": {
    "colab": {
      "provenance": []
    },
    "kernelspec": {
      "name": "python3",
      "display_name": "Python 3"
    },
    "language_info": {
      "name": "python"
    }
  },
  "cells": [
    {
      "cell_type": "code",
      "execution_count": 42,
      "metadata": {
        "colab": {
          "base_uri": "https://localhost:8080/"
        },
        "id": "SOZakTAHDcaZ",
        "outputId": "3b1c35db-08ef-49e0-ceb6-8dfc91d62101"
      },
      "outputs": [
        {
          "output_type": "stream",
          "name": "stdout",
          "text": [
            "{1, 2, 3, 4}\n"
          ]
        }
      ],
      "source": [
        "#set-A Set in Python programming is an unordered collection data type that is iterable, mutable and has no duplicate elements.\n",
        "my_set={1,2,3,4,4,4,}\n",
        "print(my_set)"
      ]
    },
    {
      "cell_type": "code",
      "source": [
        "my_set={\"priti singh\"}\n",
        "print(my_set)"
      ],
      "metadata": {
        "colab": {
          "base_uri": "https://localhost:8080/"
        },
        "id": "LkMIVnLnFU6E",
        "outputId": "d7f97c76-d1f0-461e-c6c4-1ac31d875a33"
      },
      "execution_count": 41,
      "outputs": [
        {
          "output_type": "stream",
          "name": "stdout",
          "text": [
            "{'priti singh'}\n"
          ]
        }
      ]
    },
    {
      "cell_type": "code",
      "source": [
        "type(my_set)"
      ],
      "metadata": {
        "colab": {
          "base_uri": "https://localhost:8080/"
        },
        "id": "5qBUeNRIFc6Y",
        "outputId": "a72859ce-a73e-45a5-e920-e6c08a4ba97d"
      },
      "execution_count": 43,
      "outputs": [
        {
          "output_type": "execute_result",
          "data": {
            "text/plain": [
              "set"
            ]
          },
          "metadata": {},
          "execution_count": 43
        }
      ]
    },
    {
      "cell_type": "code",
      "source": [
        "y=(\"priti singh\")\n",
        "print(y)"
      ],
      "metadata": {
        "colab": {
          "base_uri": "https://localhost:8080/"
        },
        "id": "lIcYV9ReFhpT",
        "outputId": "f84cccad-5b6e-46a7-ab6e-738bd2aceab1"
      },
      "execution_count": 47,
      "outputs": [
        {
          "output_type": "stream",
          "name": "stdout",
          "text": [
            "priti singh\n"
          ]
        }
      ]
    },
    {
      "cell_type": "code",
      "source": [
        "y=([1,2,3,4,5])\n",
        "print(y)"
      ],
      "metadata": {
        "colab": {
          "base_uri": "https://localhost:8080/"
        },
        "id": "QXdyfnaVGQ3z",
        "outputId": "b523bafd-6f5a-4dcd-9872-0d6fb8fce4b2"
      },
      "execution_count": 48,
      "outputs": [
        {
          "output_type": "stream",
          "name": "stdout",
          "text": [
            "[1, 2, 3, 4, 5]\n"
          ]
        }
      ]
    },
    {
      "cell_type": "code",
      "source": [
        "#frozen set :\n",
        "a=frozenset([1,2,3,4,5])\n",
        "print(a)"
      ],
      "metadata": {
        "colab": {
          "base_uri": "https://localhost:8080/"
        },
        "id": "WU1SIhAIGWaJ",
        "outputId": "725f16b6-38c4-4c04-84a3-32fbeddf0c1a"
      },
      "execution_count": null,
      "outputs": [
        {
          "output_type": "stream",
          "name": "stdout",
          "text": [
            "frozenset({1, 2, 3, 4, 5})\n"
          ]
        }
      ]
    },
    {
      "cell_type": "code",
      "source": [
        "#frozenset' object has no attribute add\n",
        "a.add(2)\n",
        "print(a)"
      ],
      "metadata": {
        "id": "mEKYWwQ5G5j8"
      },
      "execution_count": null,
      "outputs": []
    },
    {
      "cell_type": "code",
      "source": [
        "y.add(10)\n",
        "print(y)"
      ],
      "metadata": {
        "colab": {
          "base_uri": "https://localhost:8080/"
        },
        "id": "E7VCEaYhH2-6",
        "outputId": "3f0ca2c2-242e-4c49-e235-2389b97527c9"
      },
      "execution_count": null,
      "outputs": [
        {
          "output_type": "stream",
          "name": "stdout",
          "text": [
            "{1, 2, 3, 4, 5, 10}\n"
          ]
        }
      ]
    },
    {
      "cell_type": "code",
      "source": [
        "y.update([10,20,30,40,50 ,60])\n",
        "print(y)"
      ],
      "metadata": {
        "colab": {
          "base_uri": "https://localhost:8080/"
        },
        "id": "1rZd6aXvIGjc",
        "outputId": "52e66440-e93d-4ee5-e270-10a4c0c53b5f"
      },
      "execution_count": null,
      "outputs": [
        {
          "output_type": "stream",
          "name": "stdout",
          "text": [
            "{1, 2, 3, 4, 5, 40, 10, 50, 20, 60, 30}\n"
          ]
        }
      ]
    },
    {
      "cell_type": "code",
      "source": [
        "set = {\"hp\", \"dell\", \"asus\"}\n",
        "\n",
        "for x in set:\n",
        "  print(x)\n"
      ],
      "metadata": {
        "colab": {
          "base_uri": "https://localhost:8080/"
        },
        "id": "06E6Eh3wJC1z",
        "outputId": "c1b22909-3f2b-4109-f144-595bc472076c"
      },
      "execution_count": 33,
      "outputs": [
        {
          "output_type": "stream",
          "name": "stdout",
          "text": [
            "hp\n",
            "dell\n",
            "asus\n"
          ]
        }
      ]
    },
    {
      "cell_type": "code",
      "source": [
        "40 in y"
      ],
      "metadata": {
        "colab": {
          "base_uri": "https://localhost:8080/"
        },
        "id": "q8_eBeP4JUQP",
        "outputId": "67053518-1ab5-4104-fbde-04de2fa66027"
      },
      "execution_count": null,
      "outputs": [
        {
          "output_type": "execute_result",
          "data": {
            "text/plain": [
              "True"
            ]
          },
          "metadata": {},
          "execution_count": 15
        }
      ]
    },
    {
      "cell_type": "code",
      "source": [
        "500 in y"
      ],
      "metadata": {
        "colab": {
          "base_uri": "https://localhost:8080/"
        },
        "id": "lPmM8QyBJY3z",
        "outputId": "79f7734f-e519-40ed-843c-fdf0d16dd172"
      },
      "execution_count": null,
      "outputs": [
        {
          "output_type": "execute_result",
          "data": {
            "text/plain": [
              "False"
            ]
          },
          "metadata": {},
          "execution_count": 16
        }
      ]
    },
    {
      "cell_type": "code",
      "source": [
        "num= {10,20,30,40,50,60,70}\n",
        "\n",
        "num.remove(10)\n",
        "\n",
        "print(num)\n"
      ],
      "metadata": {
        "colab": {
          "base_uri": "https://localhost:8080/"
        },
        "id": "gZfN1zztJePI",
        "outputId": "5fe45578-33b6-48e8-e8f0-a9f03665b515"
      },
      "execution_count": null,
      "outputs": [
        {
          "output_type": "stream",
          "name": "stdout",
          "text": [
            "{50, 20, 70, 40, 60, 30}\n"
          ]
        }
      ]
    },
    {
      "cell_type": "code",
      "source": [
        "y.discard(10)\n",
        "print(y)"
      ],
      "metadata": {
        "colab": {
          "base_uri": "https://localhost:8080/"
        },
        "id": "9Qgmsw74KcQ3",
        "outputId": "8ab90b5f-ce2b-47c7-cedd-3a136c79a2be"
      },
      "execution_count": null,
      "outputs": [
        {
          "output_type": "stream",
          "name": "stdout",
          "text": [
            "{1, 2, 3, 4, 5, 40, 50, 20, 60, 30}\n"
          ]
        }
      ]
    },
    {
      "cell_type": "code",
      "source": [
        "y.pop()\n",
        "print(y)"
      ],
      "metadata": {
        "colab": {
          "base_uri": "https://localhost:8080/"
        },
        "id": "ZE7ItehgKxYJ",
        "outputId": "88cd0d8d-bf5d-4bfa-e615-94b924ab78d4"
      },
      "execution_count": null,
      "outputs": [
        {
          "output_type": "stream",
          "name": "stdout",
          "text": [
            "{2, 3, 4, 5, 40, 50, 20, 60, 30}\n"
          ]
        }
      ]
    },
    {
      "cell_type": "code",
      "source": [
        "print(y)"
      ],
      "metadata": {
        "colab": {
          "base_uri": "https://localhost:8080/"
        },
        "id": "mqyo6cR_K5x6",
        "outputId": "46afbc07-4b1c-4ddf-a490-bfdca11f34f8"
      },
      "execution_count": null,
      "outputs": [
        {
          "output_type": "stream",
          "name": "stdout",
          "text": [
            "{2, 3, 4, 5, 40, 50, 20, 60, 30}\n"
          ]
        }
      ]
    },
    {
      "cell_type": "code",
      "source": [
        "y.pop()\n",
        "print(y)"
      ],
      "metadata": {
        "colab": {
          "base_uri": "https://localhost:8080/"
        },
        "id": "IzXvCdOiLjdv",
        "outputId": "9e9f8e0b-5700-4cda-b281-53bae6db313b"
      },
      "execution_count": null,
      "outputs": [
        {
          "output_type": "stream",
          "name": "stdout",
          "text": [
            "{3, 4, 5, 40, 50, 20, 60, 30}\n"
          ]
        }
      ]
    },
    {
      "cell_type": "code",
      "source": [
        "\n",
        "brand = ['hp', 'dell', 'acer']\n",
        "brand.append(\"asus\")\n",
        "print(brand)"
      ],
      "metadata": {
        "id": "paZVMe86LszD",
        "colab": {
          "base_uri": "https://localhost:8080/"
        },
        "outputId": "863903b9-96c5-430e-8537-fcbea73403fe"
      },
      "execution_count": 32,
      "outputs": [
        {
          "output_type": "stream",
          "name": "stdout",
          "text": [
            "['hp', 'dell', 'acer', 'asus']\n"
          ]
        }
      ]
    },
    {
      "cell_type": "code",
      "source": [
        "set1 = {10, 20, 30, 40}\n",
        "set2 = {50, 20, \"10\", 60}\n",
        "\n",
        "set3 = set1.union(set2)\n",
        "print(set3)"
      ],
      "metadata": {
        "colab": {
          "base_uri": "https://localhost:8080/"
        },
        "id": "-nGL_wDUOmxF",
        "outputId": "13d90574-29f7-49cc-e243-5de7beac99a4"
      },
      "execution_count": null,
      "outputs": [
        {
          "output_type": "stream",
          "name": "stdout",
          "text": [
            "{40, 10, '10', 50, 20, 60, 30}\n"
          ]
        }
      ]
    },
    {
      "cell_type": "code",
      "source": [
        "sampleSet = {\"Yellow\", \"Orange\", \"Black\"}\n",
        "sampleSet.update([\"Blue\", \"Green\", \"Red\"])\n",
        "print(sampleSet)"
      ],
      "metadata": {
        "colab": {
          "base_uri": "https://localhost:8080/"
        },
        "id": "TEv2a30IO9U7",
        "outputId": "3d8e52a9-1896-4fc0-a5aa-80709b2f730a"
      },
      "execution_count": null,
      "outputs": [
        {
          "output_type": "stream",
          "name": "stdout",
          "text": [
            "{'Blue', 'Orange', 'Yellow', 'Red', 'Green', 'Black'}\n"
          ]
        }
      ]
    },
    {
      "cell_type": "code",
      "source": [
        "aSet = {1, 'PYnative', ['abc', 'xyz'], True}  #TypeError: unhashable type: 'list'\n",
        "print(aSet)"
      ],
      "metadata": {
        "id": "LqTJStFDPLwd"
      },
      "execution_count": null,
      "outputs": []
    },
    {
      "cell_type": "code",
      "source": [
        "set1 = {\"Yellow\", \"Orange\", \"Black\"}\n",
        "set2 = {\"Orange\", \"Blue\", \"Pink\"}\n",
        "\n",
        "set3 = set2.difference(set1)\n",
        "print(set3)"
      ],
      "metadata": {
        "colab": {
          "base_uri": "https://localhost:8080/"
        },
        "id": "TE4hnVjhPfu-",
        "outputId": "aa8dd076-b13f-4ee0-c2f1-e72b3c4f47c1"
      },
      "execution_count": null,
      "outputs": [
        {
          "output_type": "stream",
          "name": "stdout",
          "text": [
            "{'Pink', 'Blue'}\n"
          ]
        }
      ]
    },
    {
      "cell_type": "code",
      "source": [
        "aSet = {1, 'PYnative', ('abc', 'xyz'), True}\n",
        "print(aSet)"
      ],
      "metadata": {
        "colab": {
          "base_uri": "https://localhost:8080/"
        },
        "id": "Z4U2ULuUPkeX",
        "outputId": "17181e1f-16be-483d-97d0-6957f33c9fda"
      },
      "execution_count": null,
      "outputs": [
        {
          "output_type": "stream",
          "name": "stdout",
          "text": [
            "{1, ('abc', 'xyz'), 'PYnative'}\n"
          ]
        }
      ]
    },
    {
      "cell_type": "code",
      "source": [
        "set1 = {\"Yellow\", \"Orange\", \"Black\"}\n",
        "set2 = {\"Orange\", \"Blue\", \"Pink\"}\n",
        "\n",
        "set1.difference_update(set2)\n",
        "print(set1)"
      ],
      "metadata": {
        "colab": {
          "base_uri": "https://localhost:8080/"
        },
        "id": "7nHs8o4UPwVf",
        "outputId": "e2433732-a43b-4e85-db3a-6160b57a713e"
      },
      "execution_count": null,
      "outputs": [
        {
          "output_type": "stream",
          "name": "stdout",
          "text": [
            "{'Black', 'Yellow'}\n"
          ]
        }
      ]
    },
    {
      "cell_type": "code",
      "source": [
        "sampleSet = {\"Yellow\", \"Orange\", \"Black\"}\n",
        "sampleSet.discard(\"Orange\")\n",
        "print(sampleSet)"
      ],
      "metadata": {
        "colab": {
          "base_uri": "https://localhost:8080/"
        },
        "id": "M96S66V9P1vk",
        "outputId": "1577b548-bd90-4a61-e5ae-ed77d6f5ea48"
      },
      "execution_count": null,
      "outputs": [
        {
          "output_type": "stream",
          "name": "stdout",
          "text": [
            "{'Black', 'Yellow'}\n"
          ]
        }
      ]
    },
    {
      "cell_type": "code",
      "source": [
        "sampleSet = {\"Yellow\", \"Orange\", \"Black\"}\n",
        "sampleSet.add(\"Blue\")\n",
        "sampleSet.add(\"Orange\")\n",
        "print(sampleSet)"
      ],
      "metadata": {
        "colab": {
          "base_uri": "https://localhost:8080/"
        },
        "id": "tgcSgj2GRBLT",
        "outputId": "95d7c278-d3e3-4cd2-bea5-fd7594703665"
      },
      "execution_count": null,
      "outputs": [
        {
          "output_type": "stream",
          "name": "stdout",
          "text": [
            "{'Black', 'Blue', 'Orange', 'Yellow'}\n"
          ]
        }
      ]
    },
    {
      "cell_type": "code",
      "source": [
        "set1 = {10, 20, 30, 40, 50}\n",
        "set2 = {60, 70, 10, 30, 40, 80, 20, 50}\n",
        "\n",
        "print(set1.issubset(set2))\n",
        "print(set2.issuperset(set1))"
      ],
      "metadata": {
        "colab": {
          "base_uri": "https://localhost:8080/"
        },
        "id": "VIFPBI7VRJSh",
        "outputId": "2f73088f-26cd-4394-f964-33ffeaf1f126"
      },
      "execution_count": null,
      "outputs": [
        {
          "output_type": "stream",
          "name": "stdout",
          "text": [
            "True\n",
            "True\n"
          ]
        }
      ]
    },
    {
      "cell_type": "code",
      "source": [
        "sampleSet = {\"Yellow\", \"Orange\", \"Black\"}\n",
        "sampleSet.discard(\"Blue\")\n",
        "print(sampleSet)"
      ],
      "metadata": {
        "id": "WL2_v6FkRO99",
        "outputId": "88a50ee4-de47-4b0d-c70f-cd3718d60505",
        "colab": {
          "base_uri": "https://localhost:8080/"
        }
      },
      "execution_count": null,
      "outputs": [
        {
          "output_type": "stream",
          "name": "stdout",
          "text": [
            "{'Black', 'Orange', 'Yellow'}\n"
          ]
        }
      ]
    },
    {
      "cell_type": "code",
      "source": [
        "# set methods\n",
        "#The add() method adds an element to the set.\n",
        "brand= {\"hp\", \"dell\", \"acer\"}\n",
        "\n",
        "brand.add(\"acus\")\n",
        "\n",
        "print(brand)"
      ],
      "metadata": {
        "colab": {
          "base_uri": "https://localhost:8080/"
        },
        "id": "uOoxhmYuyGDq",
        "outputId": "a2638cd2-f6ab-4c8c-a267-598976d7d65d"
      },
      "execution_count": 4,
      "outputs": [
        {
          "output_type": "stream",
          "name": "stdout",
          "text": [
            "{'acer', 'hp', 'dell', 'acus'}\n"
          ]
        }
      ]
    },
    {
      "cell_type": "code",
      "source": [
        "#Removes all the elements from the set\n",
        "set = {\"hp\", \"dell\", \"asus\"}\n",
        "\n",
        "set.clear()\n",
        "\n",
        "print(set)"
      ],
      "metadata": {
        "colab": {
          "base_uri": "https://localhost:8080/"
        },
        "id": "DBR5WT-_4X3P",
        "outputId": "bcdc0b15-aab5-47b3-d872-89183502a86e"
      },
      "execution_count": 6,
      "outputs": [
        {
          "output_type": "stream",
          "name": "stdout",
          "text": [
            "set()\n"
          ]
        }
      ]
    },
    {
      "cell_type": "code",
      "source": [
        "#Returns a copy of the set\n",
        "set = {\"hp\", \"dell\", \"asus\"}\n",
        "\n",
        "set.copy()\n",
        "\n",
        "print(set)"
      ],
      "metadata": {
        "colab": {
          "base_uri": "https://localhost:8080/"
        },
        "id": "0vye50de62Ua",
        "outputId": "5885b6ff-5399-4617-eb93-03c129ebbb66"
      },
      "execution_count": 34,
      "outputs": [
        {
          "output_type": "stream",
          "name": "stdout",
          "text": [
            "{'hp', 'dell', 'asus'}\n"
          ]
        }
      ]
    },
    {
      "cell_type": "code",
      "source": [
        "#Returns a set containing the difference between two or more sets\n",
        "set = {\"hp\", \"dell\", \"asus\"}\n",
        "\n",
        "\n",
        "set.difference()\n",
        "\n",
        "print(set)"
      ],
      "metadata": {
        "colab": {
          "base_uri": "https://localhost:8080/"
        },
        "id": "jqRrDKHs41X-",
        "outputId": "7433df8f-25c9-44bd-d75b-e248cd84f203"
      },
      "execution_count": 40,
      "outputs": [
        {
          "output_type": "stream",
          "name": "stdout",
          "text": [
            "{'hp', 'dell', 'asus'}\n"
          ]
        }
      ]
    },
    {
      "cell_type": "code",
      "source": [
        "#Removes the items in this set that are also included in another, specified set\n",
        "x = {1,2,3,4,5,6,7,8,9,10}\n",
        "y = {10,20,30,40,50,60,70,80,90,100}\n",
        "\n",
        "x.difference_update(y)\n",
        "\n",
        "print(x)\n"
      ],
      "metadata": {
        "colab": {
          "base_uri": "https://localhost:8080/"
        },
        "id": "bFmMd4Xp7pFs",
        "outputId": "c72f0674-a5da-48c3-a458-d97b68b42025"
      },
      "execution_count": 12,
      "outputs": [
        {
          "output_type": "stream",
          "name": "stdout",
          "text": [
            "{1, 2, 3, 4, 5, 6, 7, 8, 9}\n"
          ]
        }
      ]
    },
    {
      "cell_type": "code",
      "source": [
        "#Remove the specified item\n",
        "set = {\"hp\", \"dell\", \"acer\"}\n",
        "\n",
        "set.discard(\"dell\")\n",
        "\n",
        "print(set)"
      ],
      "metadata": {
        "colab": {
          "base_uri": "https://localhost:8080/"
        },
        "id": "RrJPLVew8TAE",
        "outputId": "d9effe97-454d-4329-d4b3-9d45a5576f1b"
      },
      "execution_count": 15,
      "outputs": [
        {
          "output_type": "stream",
          "name": "stdout",
          "text": [
            "{'acer', 'hp'}\n"
          ]
        }
      ]
    },
    {
      "cell_type": "code",
      "source": [
        "#he intersection() method returns a set that contains the similarity between two or more sets.\n",
        "x = {1,2,3,4,5,6,7,8,9,10}\n",
        "y = {10,20,30,40,50,60,70,80,90,100}\n",
        "\n",
        "z = x.intersection(y)\n",
        "\n",
        "print(z)\n"
      ],
      "metadata": {
        "colab": {
          "base_uri": "https://localhost:8080/"
        },
        "id": "QTUIUMLd9aoJ",
        "outputId": "4fb882c9-ac8d-47db-b05d-5fc18ecb1f84"
      },
      "execution_count": 17,
      "outputs": [
        {
          "output_type": "stream",
          "name": "stdout",
          "text": [
            "{10}\n"
          ]
        }
      ]
    },
    {
      "cell_type": "code",
      "source": [
        "#The intersection_update() method removes the items that is not present in both sets (or in all sets if the comparison is done between more than two sets).\n",
        "#The intersection_update() method is different from the intersection() method, because the intersection() method returns a new set, without the unwanted items,\n",
        "#and the intersection_update() method removes the unwanted items from the original set.\n",
        "x = {1,2,3,4,5,6,7,8,9,10}\n",
        "y = {10,20,30,40,50,60,70,80,90,100}\n",
        "\n",
        "x.intersection_update(y)\n",
        "\n",
        "print(x)\n"
      ],
      "metadata": {
        "colab": {
          "base_uri": "https://localhost:8080/"
        },
        "id": "Kx856PeJ-IlT",
        "outputId": "7bd992ff-3363-47bc-fff8-a48c6997e56c"
      },
      "execution_count": 18,
      "outputs": [
        {
          "output_type": "stream",
          "name": "stdout",
          "text": [
            "{10}\n"
          ]
        }
      ]
    },
    {
      "cell_type": "code",
      "source": [
        "#The isdisjoint() method returns True if none of the items are present in both sets, otherwise it returns False.\n",
        "x = {1,2,3,4,5,6,7,8,9,10}\n",
        "y = {10,20,30,40,50,60,70,80,90,100}\n",
        "z = x.isdisjoint(y)\n",
        "print(z)"
      ],
      "metadata": {
        "colab": {
          "base_uri": "https://localhost:8080/"
        },
        "id": "UjpwrByR-ug1",
        "outputId": "997a9d27-fa27-4f80-c47e-a6140f5a31bf"
      },
      "execution_count": 19,
      "outputs": [
        {
          "output_type": "stream",
          "name": "stdout",
          "text": [
            "False\n"
          ]
        }
      ]
    },
    {
      "cell_type": "code",
      "source": [
        "#The issubset() method returns True if all items in the set exists in the specified set, otherwise it returns False.\n",
        "x = {\"p\", \"r\", \"i\"}\n",
        "y = {\"p\", \"r\", \"i\", \"t\", \"i\", \"a\"}\n",
        "\n",
        "z = x.issubset(y)\n",
        "\n",
        "print(z)"
      ],
      "metadata": {
        "colab": {
          "base_uri": "https://localhost:8080/"
        },
        "id": "A9DYXGFh_IFt",
        "outputId": "e5ea1455-54de-4006-d6ed-42e375fc1589"
      },
      "execution_count": 21,
      "outputs": [
        {
          "output_type": "stream",
          "name": "stdout",
          "text": [
            "True\n"
          ]
        }
      ]
    },
    {
      "cell_type": "code",
      "source": [
        "#The issuperset() method returns True if all items in the specified set exists in the original set, otherwise it returns False.\n",
        "x = {\"f\", \"e\", \"d\", \"c\", \"b\", \"a\"}\n",
        "y = {\"a\", \"b\", \"c\"}\n",
        "\n",
        "z = x.issuperset(y)\n",
        "\n",
        "print(z)"
      ],
      "metadata": {
        "colab": {
          "base_uri": "https://localhost:8080/"
        },
        "id": "LG6y_cDcPS9a",
        "outputId": "093c51e7-d828-4019-93f1-f5975ef398be"
      },
      "execution_count": 22,
      "outputs": [
        {
          "output_type": "stream",
          "name": "stdout",
          "text": [
            "True\n"
          ]
        }
      ]
    },
    {
      "cell_type": "code",
      "source": [
        "#The pop() method removes a random item from the set.\n",
        "brand = {\"hp\", \"dell\", \"acer\"}\n",
        "\n",
        "brand.pop()\n",
        "\n",
        "print(brand)"
      ],
      "metadata": {
        "colab": {
          "base_uri": "https://localhost:8080/"
        },
        "id": "pbW0foOaQP-t",
        "outputId": "f2c5f505-3074-44c6-8302-ad2cfff393c9"
      },
      "execution_count": 23,
      "outputs": [
        {
          "output_type": "stream",
          "name": "stdout",
          "text": [
            "{'hp', 'dell'}\n"
          ]
        }
      ]
    },
    {
      "cell_type": "code",
      "source": [
        "#The remove() method removes the specified element from the set.\n",
        "brand = {\"hp\", \"dell\", \"acer\"}\n",
        "\n",
        "brand.remove(\"dell\")\n",
        "\n",
        "print(brand)"
      ],
      "metadata": {
        "colab": {
          "base_uri": "https://localhost:8080/"
        },
        "id": "ReUL_tpCQtzz",
        "outputId": "8cf41f51-434a-4148-c8d6-6ca4e045c078"
      },
      "execution_count": 24,
      "outputs": [
        {
          "output_type": "stream",
          "name": "stdout",
          "text": [
            "{'acer', 'hp'}\n"
          ]
        }
      ]
    },
    {
      "cell_type": "code",
      "source": [
        "#The symmetric_difference() method returns a set that contains all items from both set, but not the items that are present in both sets.\n",
        "x = {\"apple\", \"banana\", \"cherry\"}\n",
        "y = {\"dell\", \"hp\", \"apple\"}\n",
        "\n",
        "z = x.symmetric_difference(y)\n",
        "\n",
        "print(z)"
      ],
      "metadata": {
        "colab": {
          "base_uri": "https://localhost:8080/"
        },
        "id": "OgYdKvFIVi80",
        "outputId": "b7bacf87-6bc7-4db0-8aea-866fb575e98e"
      },
      "execution_count": 26,
      "outputs": [
        {
          "output_type": "stream",
          "name": "stdout",
          "text": [
            "{'dell', 'cherry', 'banana', 'hp'}\n"
          ]
        }
      ]
    },
    {
      "cell_type": "code",
      "source": [
        "#The symmetric_difference_update() method updates the original set by removing items that are present in both sets, and inserting the other items.\n",
        "x = {\"apple\", \"banana\", \"cherry\"}\n",
        "y = {\"dell\", \"hp\", \"apple\"}\n",
        "\n",
        "x.symmetric_difference_update(y)\n",
        "\n",
        "print(x)"
      ],
      "metadata": {
        "colab": {
          "base_uri": "https://localhost:8080/"
        },
        "id": "nnhpF_9fV7TK",
        "outputId": "90aa19bd-6f3f-45fb-e123-cec9eb044a4e"
      },
      "execution_count": 28,
      "outputs": [
        {
          "output_type": "stream",
          "name": "stdout",
          "text": [
            "{'cherry', 'dell', 'banana', 'hp'}\n"
          ]
        }
      ]
    },
    {
      "cell_type": "code",
      "source": [
        "#The union() method returns a set that contains all items from the original set, and all items from the specified set(s).\n",
        "x = {\"apple\", \"banana\", \"cherry\"}\n",
        "y = {\"dell\", \"hp\", \"apple\"}\n",
        "\n",
        "z = x.union(y)\n",
        "\n",
        "print(z)"
      ],
      "metadata": {
        "colab": {
          "base_uri": "https://localhost:8080/"
        },
        "id": "uQdA0moUblb9",
        "outputId": "dc1637a0-1350-45af-e457-60780074323a"
      },
      "execution_count": 29,
      "outputs": [
        {
          "output_type": "stream",
          "name": "stdout",
          "text": [
            "{'cherry', 'dell', 'banana', 'hp', 'apple'}\n"
          ]
        }
      ]
    },
    {
      "cell_type": "code",
      "source": [
        "#The update() method updates the current set, by adding items from another set (or any other iterable).\n",
        "#If an item is present in both sets, only one appearance of this item will be present in the updated set.\n",
        "x = {\"apple\", \"banana\", \"cherry\"}\n",
        "y = {\"dell\", \"hp\", \"apple\"}\n",
        "\n",
        "x.update(y)\n",
        "\n",
        "print(x)"
      ],
      "metadata": {
        "colab": {
          "base_uri": "https://localhost:8080/"
        },
        "id": "DokMgqRIcdp4",
        "outputId": "d30b7b1f-7ed0-4030-c4d9-13d467893212"
      },
      "execution_count": 30,
      "outputs": [
        {
          "output_type": "stream",
          "name": "stdout",
          "text": [
            "{'cherry', 'dell', 'banana', 'hp', 'apple'}\n"
          ]
        }
      ]
    }
  ]
}