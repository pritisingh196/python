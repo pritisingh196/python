{
  "nbformat": 4,
  "nbformat_minor": 0,
  "metadata": {
    "colab": {
      "provenance": []
    },
    "kernelspec": {
      "name": "python3",
      "display_name": "Python 3"
    },
    "language_info": {
      "name": "python"
    }
  },
  "cells": [
    {
      "cell_type": "code",
      "execution_count": 13,
      "metadata": {
        "colab": {
          "base_uri": "https://localhost:8080/"
        },
        "id": "RZ-byZ7TljNY",
        "outputId": "d33b5ca8-f458-4d04-ac0a-e2589a1786ab"
      },
      "outputs": [
        {
          "output_type": "stream",
          "name": "stdout",
          "text": [
            "('python', 'prit', 'abhishek', 'kumar', 'singh')\n"
          ]
        }
      ],
      "source": [
        "#tuples:()unchangable,duplicate values and ordered\n",
        "my_tup=(\"python\",\"prit\",\"abhishek\",\"kumar\",\"singh\")\n",
        "print(my_tup)"
      ]
    },
    {
      "cell_type": "code",
      "source": [
        "my_tup[1:4]"
      ],
      "metadata": {
        "colab": {
          "base_uri": "https://localhost:8080/"
        },
        "id": "wULSGUR4qeNe",
        "outputId": "e4728d5c-7680-418f-dc8b-6329a3c4d8fb"
      },
      "execution_count": 14,
      "outputs": [
        {
          "output_type": "execute_result",
          "data": {
            "text/plain": [
              "('prit', 'abhishek', 'kumar')"
            ]
          },
          "metadata": {},
          "execution_count": 14
        }
      ]
    },
    {
      "cell_type": "code",
      "source": [
        "#my_tup[0]=sandeep-unchnageable example\n"
      ],
      "metadata": {
        "id": "-CVXNQRAqwvh"
      },
      "execution_count": 9,
      "outputs": []
    },
    {
      "cell_type": "code",
      "source": [
        "fruits=(\"apple\",\"banana\",\"cherry\")\n",
        "(green,yellow,red)=fruits\n",
        "print(green)\n",
        "print(yellow)\n",
        "print(red)"
      ],
      "metadata": {
        "colab": {
          "base_uri": "https://localhost:8080/"
        },
        "id": "uCQodTQfsYUg",
        "outputId": "e1452e01-0734-4404-ec08-91171165708d"
      },
      "execution_count": 15,
      "outputs": [
        {
          "output_type": "stream",
          "name": "stdout",
          "text": [
            "apple\n",
            "banana\n",
            "cherry\n"
          ]
        }
      ]
    },
    {
      "cell_type": "code",
      "source": [
        "my_tup=(\"python\",\"prit\",\"abhishek\",\"kumar\",\"singh\")\n",
        "p,q,*r=my_tup\n",
        "print(p)\n",
        "print(q)\n",
        "print(r)"
      ],
      "metadata": {
        "colab": {
          "base_uri": "https://localhost:8080/"
        },
        "id": "NzN7JCl5uOlR",
        "outputId": "83f5ab0e-9723-42aa-c59c-7ea9ff8650b8"
      },
      "execution_count": 20,
      "outputs": [
        {
          "output_type": "stream",
          "name": "stdout",
          "text": [
            "python\n",
            "prit\n",
            "['abhishek', 'kumar', 'singh']\n"
          ]
        }
      ]
    },
    {
      "cell_type": "code",
      "source": [
        "my_tup=(\"python\",\"prit\",\"abhishek\",\"kumar\",\"singh\")\n",
        "my_tup=p,q,*r\n",
        "print(p)\n",
        "print(q)\n",
        "print(r)"
      ],
      "metadata": {
        "colab": {
          "base_uri": "https://localhost:8080/"
        },
        "id": "wl-3F7uVx4f6",
        "outputId": "7e9a3119-2637-418b-dec7-287f4a388758"
      },
      "execution_count": 21,
      "outputs": [
        {
          "output_type": "stream",
          "name": "stdout",
          "text": [
            "python\n",
            "prit\n",
            "['abhishek', 'kumar', 'singh']\n"
          ]
        }
      ]
    },
    {
      "cell_type": "code",
      "source": [],
      "metadata": {
        "id": "UlUp5JjNyl1n"
      },
      "execution_count": null,
      "outputs": []
    }
  ]
}