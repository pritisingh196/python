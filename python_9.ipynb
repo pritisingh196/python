{
  "nbformat": 4,
  "nbformat_minor": 0,
  "metadata": {
    "colab": {
      "provenance": []
    },
    "kernelspec": {
      "name": "python3",
      "display_name": "Python 3"
    },
    "language_info": {
      "name": "python"
    }
  },
  "cells": [
    {
      "cell_type": "code",
      "source": [
        "#A function is a block of code which only runs when it is called.You can pass data, known as parameters, into a function.\n",
        "def my_function():\n",
        "  print(\"Hello i m a function \")\n",
        "\n",
        "\n",
        "\n"
      ],
      "metadata": {
        "id": "oL-hmJwwYhGW"
      },
      "execution_count": null,
      "outputs": []
    },
    {
      "cell_type": "code",
      "source": [
        "#calling function\n",
        "def my_function():\n",
        "  print(\"Hello i m a function\")\n",
        "\n",
        "my_function()"
      ],
      "metadata": {
        "colab": {
          "base_uri": "https://localhost:8080/"
        },
        "id": "yx_DSJNrZiAI",
        "outputId": "7a151caa-0d2a-41d6-e542-a94e60a45e60"
      },
      "execution_count": 34,
      "outputs": [
        {
          "output_type": "stream",
          "name": "stdout",
          "text": [
            "Hello i m a function\n"
          ]
        }
      ]
    },
    {
      "cell_type": "code",
      "source": [
        "# argument pass function\n",
        "def my_function(fname):\n",
        "  print(fname + \"singh\")\n",
        "\n",
        "my_function(\"priti\")\n",
        "my_function(\"sonu\")\n",
        "my_function(\"monu\")\n",
        "\n"
      ],
      "metadata": {
        "colab": {
          "base_uri": "https://localhost:8080/"
        },
        "id": "JLk_q1zoZpPn",
        "outputId": "57a32114-1842-4963-a5c5-9a265c8bf4dd"
      },
      "execution_count": 39,
      "outputs": [
        {
          "output_type": "stream",
          "name": "stdout",
          "text": [
            "pritisingh\n",
            "sonusingh\n",
            "monusingh\n"
          ]
        }
      ]
    },
    {
      "cell_type": "code",
      "source": [
        "#add two argument\n",
        "def my_function(fname, lname):\n",
        "  print(fname + \" \" + lname)\n",
        "\n",
        "my_function(\"priti \", \"singh\")"
      ],
      "metadata": {
        "colab": {
          "base_uri": "https://localhost:8080/"
        },
        "id": "hzjCYkUJcb9l",
        "outputId": "f0da5407-cc27-4fb1-f8d9-9faed1050d84"
      },
      "execution_count": 40,
      "outputs": [
        {
          "output_type": "stream",
          "name": "stdout",
          "text": [
            "priti  singh\n"
          ]
        }
      ]
    },
    {
      "cell_type": "code",
      "source": [
        "#Arbitrary Arguments\n",
        "def my_function(*a):\n",
        "  print(\"The biggest number \" + a[2])\n",
        "\n",
        "my_function(\"10\", \"20\", \"30\")"
      ],
      "metadata": {
        "colab": {
          "base_uri": "https://localhost:8080/"
        },
        "id": "aG95Rw_NgGzV",
        "outputId": "01d77a79-ef91-4d46-c57b-1e7d65736a40"
      },
      "execution_count": 44,
      "outputs": [
        {
          "output_type": "stream",
          "name": "stdout",
          "text": [
            "The biggest number 30\n"
          ]
        }
      ]
    },
    {
      "cell_type": "code",
      "source": [
        "#Keyword Arguments\n",
        "def my_function(a,b,c):\n",
        "  print(\"The biggest no is \" + c)\n",
        "\n",
        "my_function(a = \"ten\", b = \"twenty\", c = \"thirty\")"
      ],
      "metadata": {
        "colab": {
          "base_uri": "https://localhost:8080/"
        },
        "id": "mViAS-mbhVhy",
        "outputId": "513c2187-49c6-42d0-d2d8-b06bb4a59d13"
      },
      "execution_count": 47,
      "outputs": [
        {
          "output_type": "stream",
          "name": "stdout",
          "text": [
            "The biggest no is thirty\n"
          ]
        }
      ]
    },
    {
      "cell_type": "code",
      "source": [
        "\n",
        "#Arbitrary Arguments\n",
        "def my_function(**name):\n",
        "  print(\" last name is \" + name[\"lname\"])\n",
        "\n",
        "my_function(fname = \"priti\", lname = \"singh\")"
      ],
      "metadata": {
        "colab": {
          "base_uri": "https://localhost:8080/"
        },
        "id": "ndmBqZMFjTTL",
        "outputId": "410a5dca-c9e4-472e-9f9d-ba26510f939b"
      },
      "execution_count": 51,
      "outputs": [
        {
          "output_type": "stream",
          "name": "stdout",
          "text": [
            " last name is singh\n"
          ]
        }
      ]
    },
    {
      "cell_type": "code",
      "source": [
        "#Default Parameter\n",
        "def my_function(sub = \"cse\"):\n",
        "  print(\"my sub is  \" + sub)\n",
        "\n",
        "my_function(\"networking\")\n",
        "my_function(\"logic maths\")\n",
        "my_function()\n",
        "my_function(\"operating system \")"
      ],
      "metadata": {
        "colab": {
          "base_uri": "https://localhost:8080/"
        },
        "id": "xS8sgbI2nUo1",
        "outputId": "c8798941-8d8b-4c4b-ec9d-67df1821150d"
      },
      "execution_count": 52,
      "outputs": [
        {
          "output_type": "stream",
          "name": "stdout",
          "text": [
            "my sub is  networking\n",
            "my sub is  logic maths\n",
            "my sub is  cse\n",
            "my sub is  operating system \n"
          ]
        }
      ]
    },
    {
      "cell_type": "code",
      "source": [
        "#passing list argument\n",
        "def my_function(product):\n",
        "  for i in product:\n",
        "    print(i)\n",
        "\n",
        "brand= [\"hp\", \"dell\", \"acer\"]\n",
        "\n",
        "my_function(brand)"
      ],
      "metadata": {
        "colab": {
          "base_uri": "https://localhost:8080/"
        },
        "id": "e92Z_ATBo_hj",
        "outputId": "3e9ee6d1-7e4f-406f-f5e5-85d3cd924e53"
      },
      "execution_count": 53,
      "outputs": [
        {
          "output_type": "stream",
          "name": "stdout",
          "text": [
            "hp\n",
            "dell\n",
            "acer\n"
          ]
        }
      ]
    },
    {
      "cell_type": "code",
      "source": [
        "# return value\n",
        "def my_function(i):\n",
        "  return 10 * i\n",
        "\n",
        "print(my_function(3))\n",
        "print(my_function(5))\n",
        "print(my_function(9))"
      ],
      "metadata": {
        "colab": {
          "base_uri": "https://localhost:8080/"
        },
        "id": "WXgI31AVvvT3",
        "outputId": "aa271a8c-c75f-4580-a9a0-94465bdcd0c1"
      },
      "execution_count": 56,
      "outputs": [
        {
          "output_type": "stream",
          "name": "stdout",
          "text": [
            "30\n",
            "50\n",
            "90\n"
          ]
        }
      ]
    }
  ]
}